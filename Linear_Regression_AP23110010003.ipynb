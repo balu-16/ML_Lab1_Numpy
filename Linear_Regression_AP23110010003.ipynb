{
  "cells": [
    {
      "cell_type": "markdown",
      "metadata": {
        "id": "EQrvZzAmlJhr"
      },
      "source": [
        "# Task 1: Introduction"
      ]
    },
    {
      "cell_type": "code",
      "execution_count": 1,
      "metadata": {
        "id": "pjfGv9j7lJhu"
      },
      "outputs": [],
      "source": [
        "%matplotlib inline\n",
        "\n",
        "import numpy as np\n",
        "import matplotlib.pyplot as plt"
      ]
    },
    {
      "cell_type": "markdown",
      "metadata": {
        "id": "ibpbwW9JlJhv"
      },
      "source": [
        "# Task 2: Dataset\n",
        "\n",
        "Real estate agent table:"
      ]
    },
    {
      "cell_type": "markdown",
      "metadata": {
        "id": "Bd2EGqPVlJhw"
      },
      "source": [
        "|Area|Distance|Price|\n",
        "|---|---|---|\n",
        "|70|3|21200|\n",
        "|50|1|22010|\n",
        "|120|9|24305|\n",
        "|100|2|31500|\n",
        "\n",
        "You can write the relationship with a 2-variable linear equation:\n",
        "\n",
        "$\n",
        "\\begin{equation}\n",
        "y = b + w_1.x_1 + w_2.x_2\n",
        "\\end{equation}\n",
        "$\n",
        "\n",
        "In a vector form:\n",
        "\n",
        "$\n",
        "\\begin{equation}\n",
        "y = b + (w_1 w_2).\\binom{x_1}{x_2}\n",
        "\\end{equation}\n",
        "$\n",
        "\n",
        "Where\n",
        "$\n",
        "\\begin{equation}\n",
        "W = (w_1 w_2)\n",
        "\\end{equation}\n",
        "$\n",
        "and\n",
        "$\n",
        "\\begin{equation}\n",
        "X = \\binom{x_1}{x_2}\n",
        "\\end{equation}\n",
        "$"
      ]
    },
    {
      "cell_type": "code",
      "execution_count": 2,
      "metadata": {
        "id": "CYLFBpTqlJhx"
      },
      "outputs": [],
      "source": [
        "def generate_examples(num=1000):\n",
        "    W = [1.0, -3.0]\n",
        "    b = 1.0\n",
        "\n",
        "    W = np.reshape(W, (2,1))\n",
        "    X = np.random.randn(num, 2)\n",
        "\n",
        "    y = b + np.dot(X, W) + np.random.randn()\n",
        "    y = np.reshape(y, (num,1))\n",
        "\n",
        "    return X,y"
      ]
    },
    {
      "cell_type": "code",
      "execution_count": 3,
      "metadata": {
        "id": "b9wQByJQlJhx"
      },
      "outputs": [],
      "source": [
        "X,y = generate_examples()"
      ]
    },
    {
      "cell_type": "code",
      "execution_count": 4,
      "metadata": {
        "colab": {
          "base_uri": "https://localhost:8080/"
        },
        "id": "n90j-KSflJhy",
        "outputId": "d167fd7c-dbdf-4732-8bea-bf42029901db"
      },
      "outputs": [
        {
          "output_type": "stream",
          "name": "stdout",
          "text": [
            "(1000, 2) (1000, 1)\n"
          ]
        }
      ],
      "source": [
        "print(X.shape, y.shape)"
      ]
    },
    {
      "cell_type": "code",
      "execution_count": 5,
      "metadata": {
        "colab": {
          "base_uri": "https://localhost:8080/"
        },
        "id": "FoPr9SnvlJhz",
        "outputId": "00066b6b-b8e9-4e21-bede-5ddc83b010c5"
      },
      "outputs": [
        {
          "output_type": "stream",
          "name": "stdout",
          "text": [
            "[ 0.29923879 -0.93832095] [4.53000473]\n"
          ]
        }
      ],
      "source": [
        "print(X[0], y[0])"
      ]
    },
    {
      "cell_type": "markdown",
      "metadata": {
        "id": "kvMrvPm6lJhz"
      },
      "source": [
        "# Task 3: Initialize Parameters"
      ]
    },
    {
      "cell_type": "markdown",
      "metadata": {
        "id": "DKPPGbqBlJh0"
      },
      "source": [
        "The loss over **m** examples:\n",
        "\n",
        "$\n",
        "\\begin{equation}\n",
        "J = \\frac{1}{2m} \\sum_{i=1}^{m} (y - \\hat{y})^2\n",
        "\\end{equation}\n",
        "$\n",
        "\n",
        "The objective of the gradient descent algorithm is to minimize this loss value.\n",
        "\n",
        "Gradient Descent Objective is to\n",
        "$\n",
        "\\begin{equation}\n",
        "min(J)\n",
        "\\end{equation}\n",
        "$"
      ]
    },
    {
      "cell_type": "code",
      "execution_count": 6,
      "metadata": {
        "id": "Uj5LTfyklJh1"
      },
      "outputs": [],
      "source": [
        "class Model:\n",
        "    def __init__(self, num_features):\n",
        "        self.num_features = num_features\n",
        "        self.W = np.random.randn(num_features,1)\n",
        "        self.b = np.random.randn()"
      ]
    },
    {
      "cell_type": "code",
      "execution_count": 7,
      "metadata": {
        "colab": {
          "base_uri": "https://localhost:8080/"
        },
        "id": "bk_zv0trlJh2",
        "outputId": "1cf7c748-2e20-44f9-c5a1-4d58cb34c8d1"
      },
      "outputs": [
        {
          "output_type": "stream",
          "name": "stdout",
          "text": [
            "[[0.75793454]\n",
            " [0.44969932]]\n",
            "0.43988124973679477\n"
          ]
        }
      ],
      "source": [
        "model = Model(2)\n",
        "print(model.W)\n",
        "print(model.b)"
      ]
    },
    {
      "cell_type": "markdown",
      "metadata": {
        "id": "yrqWMVY0lJh2"
      },
      "source": [
        "# Task 4: Forward Pass"
      ]
    },
    {
      "cell_type": "markdown",
      "metadata": {
        "id": "1R1BhbQIlJh2"
      },
      "source": [
        "The gradient descent algorithm can be simplified in 4 steps:\n",
        "\n",
        "1. Get predictions y_hat for X with current values of W and b.\n",
        "2. Compute the loss between y and y_hat\n",
        "3. Find gradients of the loss with respect to parameters W and b\n",
        "4. Update the values of W and b by subtracting the gradient values obtained in the previous step\n",
        "\n",
        "Let's simplify our linear equation a bit more for an example:\n",
        "$\n",
        "\\begin{equation}\n",
        "y = wx\n",
        "\\end{equation}\n",
        "$\n",
        "\n",
        "Let's plot J as a function of w\n",
        "\n",
        "![Loss vs Param](JvsW.png)\n",
        "\n",
        "The gradients of loss with respect to w:\n",
        "\n",
        "\\begin{equation}\n",
        "\\frac{dJ}{dw} = \\frac{\\delta{J}}{\\delta{w}} = \\lim_{\\epsilon \\to 0} \\frac{J(w + \\epsilon) - J(w)}{\\epsilon}\n",
        "\\end{equation}"
      ]
    },
    {
      "cell_type": "code",
      "execution_count": 8,
      "metadata": {
        "id": "EeRz3rTSlJh3"
      },
      "outputs": [],
      "source": [
        "class Model(Model):\n",
        "    def forward_pass(self, X):\n",
        "        y_hat = self.b + np.dot(X, self.W)\n",
        "        return y_hat"
      ]
    },
    {
      "cell_type": "code",
      "execution_count": 9,
      "metadata": {
        "colab": {
          "base_uri": "https://localhost:8080/"
        },
        "id": "RCBM6IcPlJh3",
        "outputId": "53e5f23a-d86e-45a7-e50b-ff3f0e7b7075"
      },
      "outputs": [
        {
          "output_type": "stream",
          "name": "stdout",
          "text": [
            "(1000, 1) [-1.76346847]\n"
          ]
        }
      ],
      "source": [
        "y_hat = Model(2).forward_pass(X)\n",
        "print(y_hat.shape, y_hat[0])"
      ]
    },
    {
      "cell_type": "markdown",
      "metadata": {
        "id": "jbBuzq29lJh3"
      },
      "source": [
        "# Task 5: Compute Loss\n",
        "\n",
        "The loss over **m** examples:\n",
        "\n",
        "$\n",
        "\\begin{equation}\n",
        "J = \\frac{1}{2m} \\sum_{i=1}^{m} (y - \\hat{y})^2\n",
        "\\end{equation}\n",
        "$"
      ]
    },
    {
      "cell_type": "code",
      "execution_count": 10,
      "metadata": {
        "id": "IMFYf2gYlJh3"
      },
      "outputs": [],
      "source": [
        "class Model(Model):\n",
        "    def compute_loss(self, y_hat, y_true):\n",
        "        return np.sum(np.square(y_hat - y_true))/(2*y_hat.shape[0])"
      ]
    },
    {
      "cell_type": "code",
      "execution_count": 11,
      "metadata": {
        "id": "PxG9vQ7nlJh4"
      },
      "outputs": [],
      "source": [
        "model = Model(2)\n",
        "y_hat = model.forward_pass(X)\n",
        "loss = model.compute_loss(y_hat, y)"
      ]
    },
    {
      "cell_type": "code",
      "execution_count": 12,
      "metadata": {
        "colab": {
          "base_uri": "https://localhost:8080/"
        },
        "id": "G_5-qD7slJh4",
        "outputId": "fb1ef6eb-c3cc-4c88-afb7-3872ee13fb93"
      },
      "outputs": [
        {
          "output_type": "stream",
          "name": "stdout",
          "text": [
            "10.139712080598652\n"
          ]
        }
      ],
      "source": [
        "print(loss)"
      ]
    },
    {
      "cell_type": "markdown",
      "metadata": {
        "id": "6kwT5G9NlJh4"
      },
      "source": [
        "# Task 6: Backward Pass\n",
        "\n",
        "The gradient of loss with respect to bias can be calculated with:\n",
        "\n",
        "$\n",
        "\\begin{equation}\n",
        "\\frac{dJ}{db} = \\frac{1}{m} \\sum_{i=1}^{m} (\\hat{y^{(i)}} - y^{(i)})\n",
        "\\end{equation}\n",
        "$\n",
        "\n",
        "$\n",
        "\\begin{equation}\n",
        "\\frac{dJ}{dW_j} = \\frac{1}{m} \\sum_{i=1}^{m} (\\hat{y^{(i)}} - y^{(i)}).x_j^{(i)}\n",
        "\\end{equation}\n",
        "$"
      ]
    },
    {
      "cell_type": "code",
      "execution_count": 13,
      "metadata": {
        "id": "2mt-F0dglJh5"
      },
      "outputs": [],
      "source": [
        "class Model(Model):\n",
        "    def backward_pass(self, X, y_true, y_hat):\n",
        "        m = y_true.shape[0]\n",
        "        # The gradient of the bias should be the mean of the difference\n",
        "        db = (1/m)*np.sum(y_hat - y_true)\n",
        "        # The gradient of the weights should be the mean of the dot product of the difference and X\n",
        "        dW = (1/m)*np.dot(np.transpose(X), (y_hat-y_true))\n",
        "        return dW, db"
      ]
    },
    {
      "cell_type": "code",
      "execution_count": 14,
      "metadata": {
        "id": "F6MF2stDlJh5"
      },
      "outputs": [],
      "source": [
        "model = Model(2)\n",
        "X,y = generate_examples()\n",
        "y_hat = model.forward_pass(X)\n",
        "\n",
        "dW, db = model.backward_pass(X, y, y_hat)"
      ]
    },
    {
      "cell_type": "code",
      "execution_count": 15,
      "metadata": {
        "colab": {
          "base_uri": "https://localhost:8080/"
        },
        "id": "IrzyUMYnlJh5",
        "outputId": "f11a3f3e-a0dc-4895-8d58-a596c81a3d0e"
      },
      "outputs": [
        {
          "output_type": "stream",
          "name": "stdout",
          "text": [
            "[0.84679151 1.04241975] -0.23763664227627254\n"
          ]
        }
      ],
      "source": [
        "print(dW, db)"
      ]
    },
    {
      "cell_type": "markdown",
      "metadata": {
        "id": "bty9JkAZlJh5"
      },
      "source": [
        "# Task 7: Update Parameters"
      ]
    },
    {
      "cell_type": "code",
      "execution_count": 16,
      "metadata": {
        "id": "Z7TTnwqxlJh5"
      },
      "outputs": [],
      "source": [
        "class Model(Model):\n",
        "    def update_params(self, dW, db, lr):\n",
        "        self.W = self.W - lr * dW\n",
        "        self.b = self.b - lr * db # Update bias with learning rate as well"
      ]
    },
    {
      "cell_type": "markdown",
      "metadata": {
        "id": "dMj_LR2ElJh6"
      },
      "source": [
        "# Task 8: Training Loop"
      ]
    },
    {
      "cell_type": "code",
      "execution_count": 17,
      "metadata": {
        "id": "oGhc7UMklJh6"
      },
      "outputs": [],
      "source": [
        "class Model(Model):\n",
        "    def train(self, x_train, y_train, iterations, lr):\n",
        "        losses = []\n",
        "        for i in range(0, iterations):\n",
        "            y_hat = self.forward_pass(x_train)\n",
        "            loss = self.compute_loss(y_hat, y_train)\n",
        "            dW, db = self.backward_pass(x_train, y_train, y_hat)\n",
        "            self.update_params(dW, db, lr)\n",
        "            losses.append(loss)\n",
        "            if i%int(iterations/10) == 0:\n",
        "                print('Iter: {}, Loss: {:.4f}'.format(i , loss))\n",
        "        return losses"
      ]
    },
    {
      "cell_type": "code",
      "execution_count": 18,
      "metadata": {
        "id": "xAcyLMZdlJh6"
      },
      "outputs": [],
      "source": [
        "model = Model(2)"
      ]
    },
    {
      "cell_type": "code",
      "execution_count": 19,
      "metadata": {
        "id": "yKel5P8glJh6"
      },
      "outputs": [],
      "source": [
        "x_train, y_train = generate_examples()"
      ]
    },
    {
      "cell_type": "code",
      "execution_count": 20,
      "metadata": {
        "colab": {
          "base_uri": "https://localhost:8080/"
        },
        "id": "miCpvcgylJh6",
        "outputId": "5f0c1803-81cf-405c-d3da-ae8e59ad28a8"
      },
      "outputs": [
        {
          "output_type": "stream",
          "name": "stdout",
          "text": [
            "Iter: 0, Loss: 8.2298\n",
            "Iter: 150, Loss: 3.7661\n",
            "Iter: 300, Loss: 2.3320\n",
            "Iter: 450, Loss: 1.7293\n",
            "Iter: 600, Loss: 1.4759\n",
            "Iter: 750, Loss: 1.3694\n",
            "Iter: 900, Loss: 1.3247\n",
            "Iter: 1050, Loss: 1.3059\n",
            "Iter: 1200, Loss: 1.2980\n",
            "Iter: 1350, Loss: 1.2946\n"
          ]
        }
      ],
      "source": [
        "losses = model.train(x_train, y_train, 1500, 3e-3)"
      ]
    },
    {
      "cell_type": "code",
      "execution_count": 21,
      "metadata": {
        "colab": {
          "base_uri": "https://localhost:8080/",
          "height": 447
        },
        "id": "I1svD3PXlJh7",
        "outputId": "8bc1488e-a55e-4438-b374-da8061069a3d"
      },
      "outputs": [
        {
          "output_type": "execute_result",
          "data": {
            "text/plain": [
              "[<matplotlib.lines.Line2D at 0x7a80dfb9d8e0>]"
            ]
          },
          "metadata": {},
          "execution_count": 21
        },
        {
          "output_type": "display_data",
          "data": {
            "text/plain": [
              "<Figure size 640x480 with 1 Axes>"
            ],
            "image/png": "[encoded data removed]"
          },
          "metadata": {}
        }
      ],
      "source": [
        "plt.plot(losses)"
      ]
    },
    {
      "cell_type": "markdown",
      "metadata": {
        "id": "xXll8hkClJh7"
      },
      "source": [
        "# Task 9: Predictions"
      ]
    },
    {
      "cell_type": "code",
      "execution_count": 22,
      "metadata": {
        "colab": {
          "base_uri": "https://localhost:8080/"
        },
        "id": "xaZRrPY5lJh8",
        "outputId": "da303c79-6bdc-4d9f-c95b-38e8a3f9f145"
      },
      "outputs": [
        {
          "output_type": "stream",
          "name": "stdout",
          "text": [
            "(500, 2) (500, 1)\n"
          ]
        }
      ],
      "source": [
        "model_untrained = Model(2)\n",
        "\n",
        "x_test, y_test = generate_examples(500)\n",
        "print(x_test.shape, y_test.shape)"
      ]
    },
    {
      "cell_type": "code",
      "execution_count": 23,
      "metadata": {
        "id": "O1vXZpSRlJh8"
      },
      "outputs": [],
      "source": [
        "preds_untrained = model_untrained.forward_pass(x_test)\n",
        "preds_trained = model.forward_pass(x_test)"
      ]
    },
    {
      "cell_type": "code",
      "execution_count": 24,
      "metadata": {
        "colab": {
          "base_uri": "https://localhost:8080/",
          "height": 542
        },
        "id": "5pfPR8tnlJh8",
        "outputId": "91a4571b-a705-419f-bb47-3e3e569cdfa3"
      },
      "outputs": [
        {
          "output_type": "display_data",
          "data": {
            "text/plain": [
              "<Figure size 600x600 with 1 Axes>"
            ],
            "image/png": "[encoded data removed]"
          },
          "metadata": {}
        }
      ],
      "source": [
        "plt.figure(figsize=(6,6))\n",
        "plt.plot(preds_untrained, y_test, 'rx', label='Untrained')\n",
        "plt.plot(preds_trained, y_test, 'b', label='Trained')\n",
        "plt.legend()\n",
        "plt.xlabel('Predictions')\n",
        "plt.ylabel('Ground Truth')\n",
        "plt.show()"
      ]
    }
  ],
  "metadata": {
    "kernelspec": {
      "display_name": "Python 3 (ipykernel)",
      "language": "python",
      "name": "python3"
    },
    "language_info": {
      "codemirror_mode": {
        "name": "ipython",
        "version": 3
      },
      "file_extension": ".py",
      "mimetype": "text/x-python",
      "name": "python",
      "nbconvert_exporter": "python",
      "pygments_lexer": "ipython3",
      "version": "3.10.6"
    },
    "colab": {
      "provenance": []
    }
  },
  "nbformat": 4,
  "nbformat_minor": 0
}