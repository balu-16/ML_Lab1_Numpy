{
  "cells": [
    {
      "cell_type": "markdown",
      "id": "20dc80e4",
      "metadata": {
        "id": "20dc80e4"
      },
      "source": [
        "# 🧑‍💻 NumPy Complete Guided Project\n",
        "**Instructor / Student Colab Notebook** – covers *all* key concepts from `Numpy‑1` to `Numpy‑5`.\n",
        "\n",
        "*Generated: 08 Aug 2025*"
      ]
    },
    {
      "cell_type": "markdown",
      "id": "e8b8b6cf",
      "metadata": {
        "id": "e8b8b6cf"
      },
      "source": [
        "\n",
        "**Table of Contents**\n",
        "\n",
        "1. [Setup](#setup)  \n",
        "2. [Array Creation & Dtypes](#creation)  \n",
        "3. [Array Attributes & Inspection](#attributes)  \n",
        "4. [Indexing, Slicing, Fancy Indexing](#indexing)  \n",
        "5. [Reshaping, Transpose & Copies vs Views](#reshape)  \n",
        "6. [Joining, Splitting, Set & Sorting Ops](#join)  \n",
        "7. [Arithmetic Ops, Universal Functions](#arithmetic)  \n",
        "8. [Broadcasting (Rules + Examples)](#broadcast)  \n",
        "9. [Statistics & Aggregations](#stats)  \n",
        "10. [Random Numbers & Reproducibility](#random)  \n",
        "11. [Structured / Recarrays](#structured)  \n",
        "12. [Linear Algebra Essentials](#linalg)  \n",
        "13. [File I/O (`npy`, `npz`, `txt`)](#io)  \n",
        "14. [Datetime64 & Timedelta64](#datetime)  \n",
        "15. [Masked Arrays & NaNs](#mask)  \n",
        "16. [Mini‑Project — Fitness Data Analysis](#project)  \n",
        "17. [Conclusion & Next Steps](#conclusion)  \n"
      ]
    },
    {
      "cell_type": "markdown",
      "id": "9170f3ee",
      "metadata": {
        "id": "9170f3ee"
      },
      "source": [
        "## <a name='setup'></a>1️⃣ Setup"
      ]
    },
    {
      "cell_type": "code",
      "execution_count": 30,
      "id": "4f54988f",
      "metadata": {
        "colab": {
          "base_uri": "https://localhost:8080/"
        },
        "id": "4f54988f",
        "outputId": "f7b31297-07d5-4649-d32a-bb9a4defc593"
      },
      "outputs": [
        {
          "output_type": "stream",
          "name": "stdout",
          "text": [
            "NumPy version: 2.0.2\n"
          ]
        }
      ],
      "source": [
        "import numpy as np, math, os, pathlib, types, textwrap, random\n",
        "print('NumPy version:', np.__version__)"
      ]
    },
    {
      "cell_type": "markdown",
      "id": "c7f7b2c8",
      "metadata": {
        "id": "c7f7b2c8"
      },
      "source": [
        "## <a name='creation'></a>2️⃣ Array Creation & Dtypes"
      ]
    },
    {
      "cell_type": "markdown",
      "id": "47405152",
      "metadata": {
        "id": "47405152"
      },
      "source": [
        "Key functions: `np.array`, `np.arange`, `np.linspace`, `zeros`, `ones`, `full`, `eye`, `identity`, `diag`, `empty`"
      ]
    },
    {
      "cell_type": "code",
      "execution_count": 31,
      "id": "801e99ad",
      "metadata": {
        "colab": {
          "base_uri": "https://localhost:8080/"
        },
        "id": "801e99ad",
        "outputId": "952a4544-d538-4e66-febd-56c30dc43f6f"
      },
      "outputs": [
        {
          "output_type": "stream",
          "name": "stdout",
          "text": [
            "[1 2 3]\n",
            "[0.  0.2 0.4 0.6 0.8 1. ]\n",
            "[[7.5 7.5 7.5]\n",
            " [7.5 7.5 7.5]]\n",
            "dtypes: int32 float64\n"
          ]
        }
      ],
      "source": [
        "# EXAMPLE\n",
        "arr1 = np.array([1, 2, 3], dtype=np.int32)\n",
        "arr2 = np.linspace(0, 1, 6)\n",
        "arr3 = np.full((2,3), 7.5)\n",
        "print(arr1, arr2, arr3, sep=\"\\n\")\n",
        "print(\"dtypes:\", arr1.dtype, arr2.dtype)\n"
      ]
    },
    {
      "cell_type": "code",
      "execution_count": 32,
      "id": "dc63d076",
      "metadata": {
        "colab": {
          "base_uri": "https://localhost:8080/"
        },
        "id": "dc63d076",
        "outputId": "46242bc4-5238-4943-9faa-7f1ac3086cb6"
      },
      "outputs": [
        {
          "output_type": "stream",
          "name": "stdout",
          "text": [
            "[[1 0 1 0 1 0 1 0 1 0]\n",
            " [0 1 0 1 0 1 0 1 0 1]\n",
            " [1 0 1 0 1 0 1 0 1 0]\n",
            " [0 1 0 1 0 1 0 1 0 1]\n",
            " [1 0 1 0 1 0 1 0 1 0]\n",
            " [0 1 0 1 0 1 0 1 0 1]\n",
            " [1 0 1 0 1 0 1 0 1 0]\n",
            " [0 1 0 1 0 1 0 1 0 1]\n",
            " [1 0 1 0 1 0 1 0 1 0]\n",
            " [0 1 0 1 0 1 0 1 0 1]]\n"
          ]
        }
      ],
      "source": [
        "# 🖊️ TODO: create a 10×10 chessboard pattern using zeros & ones\n",
        "chessboard = np.zeros((10, 10), dtype=int)\n",
        "chessboard[::2, ::2] = 1\n",
        "chessboard[1::2, 1::2] = 1\n",
        "print(chessboard)"
      ]
    },
    {
      "cell_type": "markdown",
      "id": "925be762",
      "metadata": {
        "id": "925be762"
      },
      "source": [
        "## <a name='attributes'></a>3️⃣ Array Attributes & Inspection"
      ]
    },
    {
      "cell_type": "markdown",
      "id": "f103bb36",
      "metadata": {
        "id": "f103bb36"
      },
      "source": [
        "`shape`, `ndim`, `size`, `dtype`, `itemsize`, `nbytes`"
      ]
    },
    {
      "cell_type": "code",
      "execution_count": 33,
      "id": "ad3eeda1",
      "metadata": {
        "colab": {
          "base_uri": "https://localhost:8080/"
        },
        "id": "ad3eeda1",
        "outputId": "a13be94b-38f5-4a9a-cc13-e7f50fe4a947"
      },
      "outputs": [
        {
          "output_type": "stream",
          "name": "stdout",
          "text": [
            "shape (3, 4) ndim 2 size 12 itemsize 8 total bytes 96\n"
          ]
        }
      ],
      "source": [
        "M = np.arange(12).reshape(3,4)\n",
        "print('shape', M.shape, 'ndim', M.ndim, 'size', M.size, 'itemsize', M.itemsize, 'total bytes', M.nbytes)\n"
      ]
    },
    {
      "cell_type": "code",
      "execution_count": 34,
      "id": "5875fefe",
      "metadata": {
        "colab": {
          "base_uri": "https://localhost:8080/"
        },
        "id": "5875fefe",
        "outputId": "f1224f49-10a0-4641-f284-662754b6c124"
      },
      "outputs": [
        {
          "output_type": "stream",
          "name": "stdout",
          "text": [
            "Memory footprint: 8000000 bytes\n"
          ]
        }
      ],
      "source": [
        "# 🖊️ TODO: check memory footprint of a 1000×1000 float64 array\n",
        "arr_large = np.zeros((1000, 1000), dtype=np.float64)\n",
        "print(\"Memory footprint:\", arr_large.nbytes, \"bytes\")"
      ]
    },
    {
      "cell_type": "markdown",
      "id": "bd895660",
      "metadata": {
        "id": "bd895660"
      },
      "source": [
        "## <a name='indexing'></a>4️⃣ Indexing, Slicing & Fancy Indexing"
      ]
    },
    {
      "cell_type": "code",
      "execution_count": 35,
      "id": "5dc7d4c1",
      "metadata": {
        "colab": {
          "base_uri": "https://localhost:8080/"
        },
        "id": "5dc7d4c1",
        "outputId": "6301af83-e3ca-4ce1-f060-e9366fd1460e"
      },
      "outputs": [
        {
          "output_type": "stream",
          "name": "stdout",
          "text": [
            "[ 1  6 11 16 21]\n",
            "[[ 1  3  5]\n",
            " [11 13 15]\n",
            " [21 23 25]]\n",
            "multiples of 3: [ 3  6  9 12 15 18 21 24]\n"
          ]
        }
      ],
      "source": [
        "a = np.arange(1,26).reshape(5,5)\n",
        "print(a[:, 0])     # first column\n",
        "print(a[::2, ::2]) # every 2nd row/col\n",
        "mask = (a % 3 == 0)\n",
        "print('multiples of 3:', a[mask])\n"
      ]
    },
    {
      "cell_type": "code",
      "execution_count": 36,
      "id": "9c4bd5f4",
      "metadata": {
        "colab": {
          "base_uri": "https://localhost:8080/"
        },
        "id": "9c4bd5f4",
        "outputId": "0e36c698-7ce0-4727-de08-43c3d9395774"
      },
      "outputs": [
        {
          "output_type": "stream",
          "name": "stdout",
          "text": [
            "[[21 22 23 24 25]\n",
            " [ 6  7  8  9 10]\n",
            " [11 12 13 14 15]\n",
            " [16 17 18 19 20]\n",
            " [ 1  2  3  4  5]]\n"
          ]
        }
      ],
      "source": [
        "# 🖊️ TODO: use fancy indexing to swap first and last rows of `a`\n",
        "a[[0, -1]] = a[[-1, 0]]\n",
        "print(a)"
      ]
    },
    {
      "cell_type": "markdown",
      "id": "8f4de1d5",
      "metadata": {
        "id": "8f4de1d5"
      },
      "source": [
        "## <a name='reshape'></a>5️⃣ Reshaping, Transpose & Copies vs Views"
      ]
    },
    {
      "cell_type": "code",
      "execution_count": 37,
      "id": "053b4ff4",
      "metadata": {
        "id": "053b4ff4",
        "colab": {
          "base_uri": "https://localhost:8080/"
        },
        "outputId": "21ebfc2e-d531-443b-d536-779451398eb4"
      },
      "outputs": [
        {
          "output_type": "stream",
          "name": "stdout",
          "text": [
            "b is modified: [99  1  2  3  4  5  6  7]\n",
            "b unchanged with copy: [99  1  2  3  4  5  6  7]\n"
          ]
        }
      ],
      "source": [
        "b = np.arange(8)\n",
        "B = b.reshape(2,4)\n",
        "B[0,0] = 99\n",
        "print('b is modified:', b)\n",
        "C = b.reshape(2,4).copy()\n",
        "C[0,0] = -1\n",
        "print('b unchanged with copy:', b)\n"
      ]
    },
    {
      "cell_type": "code",
      "execution_count": 38,
      "id": "a3e599bd",
      "metadata": {
        "id": "a3e599bd",
        "colab": {
          "base_uri": "https://localhost:8080/"
        },
        "outputId": "44406f7e-e503-4d25-8760-f50a2f33c2e2"
      },
      "outputs": [
        {
          "output_type": "stream",
          "name": "stdout",
          "text": [
            "Original 3D array:\n",
            " [[[ 0  1  2  3]\n",
            "  [ 4  5  6  7]\n",
            "  [ 8  9 10 11]]\n",
            "\n",
            " [[12 13 14 15]\n",
            "  [16 17 18 19]\n",
            "  [20 21 22 23]]]\n",
            "\n",
            "Flattened using ravel (view):\n",
            " [ 0  1  2  3  4  5  6  7  8  9 10 11 12 13 14 15 16 17 18 19 20 21 22 23]\n",
            "\n",
            "Modified raveled array:\n",
            " [999   1   2   3   4   5   6   7   8   9  10  11  12  13  14  15  16  17\n",
            "  18  19  20  21  22  23]\n",
            "Original array after modifying raveled (view):\n",
            " [[[999   1   2   3]\n",
            "  [  4   5   6   7]\n",
            "  [  8   9  10  11]]\n",
            "\n",
            " [[ 12  13  14  15]\n",
            "  [ 16  17  18  19]\n",
            "  [ 20  21  22  23]]]\n",
            "\n",
            "Flattened using flatten (copy):\n",
            " [999   1   2   3   4   5   6   7   8   9  10  11  12  13  14  15  16  17\n",
            "  18  19  20  21  22  23]\n",
            "\n",
            "Modified flattened array:\n",
            " [-111    1    2    3    4    5    6    7    8    9   10   11   12   13\n",
            "   14   15   16   17   18   19   20   21   22   23]\n",
            "Original array after modifying flattened (copy):\n",
            " [[[999   1   2   3]\n",
            "  [  4   5   6   7]\n",
            "  [  8   9  10  11]]\n",
            "\n",
            " [[ 12  13  14  15]\n",
            "  [ 16  17  18  19]\n",
            "  [ 20  21  22  23]]]\n"
          ]
        }
      ],
      "source": [
        "# 🖊️ TODO: Flatten a 3‑D array into 1‑D using both `ravel` and `flatten`; observe copy vs view.\n",
        "arr_3d = np.arange(24).reshape(2, 3, 4)\n",
        "print(\"Original 3D array:\\n\", arr_3d)\n",
        "\n",
        "# Using ravel\n",
        "arr_ravel = arr_3d.ravel()\n",
        "print(\"\\nFlattened using ravel (view):\\n\", arr_ravel)\n",
        "\n",
        "# Modify an element in the raveled array\n",
        "arr_ravel[0] = 999\n",
        "print(\"\\nModified raveled array:\\n\", arr_ravel)\n",
        "print(\"Original array after modifying raveled (view):\\n\", arr_3d) # Original array is modified\n",
        "\n",
        "# Using flatten\n",
        "arr_flatten = arr_3d.flatten()\n",
        "print(\"\\nFlattened using flatten (copy):\\n\", arr_flatten)\n",
        "\n",
        "# Modify an element in the flattened array\n",
        "arr_flatten[0] = -111\n",
        "print(\"\\nModified flattened array:\\n\", arr_flatten)\n",
        "print(\"Original array after modifying flattened (copy):\\n\", arr_3d) # Original array is NOT modified"
      ]
    },
    {
      "cell_type": "markdown",
      "id": "2390c4ae",
      "metadata": {
        "id": "2390c4ae"
      },
      "source": [
        "## <a name='join'></a>6️⃣ Joining, Splitting, Set & Sorting Ops"
      ]
    },
    {
      "cell_type": "code",
      "execution_count": 39,
      "id": "a53f640a",
      "metadata": {
        "colab": {
          "base_uri": "https://localhost:8080/"
        },
        "id": "a53f640a",
        "outputId": "1c3a6f40-93b2-4fb8-90cb-654d38771a20"
      },
      "outputs": [
        {
          "output_type": "stream",
          "name": "stdout",
          "text": [
            "union [1 2 3 4 5 6]\n",
            "intersect [1 2]\n",
            "sorted descending [6 5 4 3 2 1]\n"
          ]
        }
      ],
      "source": [
        "x = np.array([1,3,5]); y = np.array([2,4,6])\n",
        "xy = np.concatenate([x,y])\n",
        "print('union', np.union1d(x,y))\n",
        "print('intersect', np.intersect1d(xy,[1,2,10]))\n",
        "print('sorted descending', np.sort(xy)[::-1])\n"
      ]
    },
    {
      "cell_type": "code",
      "execution_count": 40,
      "id": "4231e729",
      "metadata": {
        "colab": {
          "base_uri": "https://localhost:8080/"
        },
        "id": "4231e729",
        "outputId": "47ca3ac0-ea30-4ab6-cd5b-94de2b84145a"
      },
      "outputs": [
        {
          "output_type": "stream",
          "name": "stdout",
          "text": [
            "[array([1, 3, 5]), array([2, 4, 6])]\n"
          ]
        }
      ],
      "source": [
        "# 🖊️ TODO: split `xy` back into two equal halves using `np.array_split`\n",
        "xy_split = np.array_split(xy, 2)\n",
        "print(xy_split)"
      ]
    },
    {
      "cell_type": "markdown",
      "id": "e6ebeb68",
      "metadata": {
        "id": "e6ebeb68"
      },
      "source": [
        "## <a name='arithmetic'></a>7️⃣ Arithmetic Ops & Universal Functions"
      ]
    },
    {
      "cell_type": "code",
      "execution_count": 41,
      "id": "04a6eda9",
      "metadata": {
        "id": "04a6eda9",
        "colab": {
          "base_uri": "https://localhost:8080/"
        },
        "outputId": "701a00d6-70c7-4252-c95b-5657ae204482"
      },
      "outputs": [
        {
          "output_type": "stream",
          "name": "stdout",
          "text": [
            "exp [ 1.          2.71828183  7.3890561  20.08553692 54.59815003]\n",
            "sin [ 0.          0.84147098  0.90929743  0.14112001 -0.7568025 ]\n",
            "vectorised addition [10 11 12 13 14]\n"
          ]
        }
      ],
      "source": [
        "v = np.arange(5)\n",
        "print('exp', np.exp(v))\n",
        "print('sin', np.sin(v))\n",
        "print('vectorised addition', v + 10)\n"
      ]
    },
    {
      "cell_type": "code",
      "execution_count": 42,
      "id": "c011f422",
      "metadata": {
        "colab": {
          "base_uri": "https://localhost:8080/"
        },
        "id": "c011f422",
        "outputId": "4de34471-72f7-44c1-ab41-3d0243450ad2"
      },
      "outputs": [
        {
          "output_type": "stream",
          "name": "stdout",
          "text": [
            "Degrees: [ 0 30 45 60 90]\n",
            "Radians: [0.         0.52359878 0.78539816 1.04719755 1.57079633]\n",
            "Sine values: [0.         0.5        0.70710678 0.8660254  1.        ]\n"
          ]
        }
      ],
      "source": [
        "# 🖊️ TODO: given degrees [0,30,45,60,90], compute radians and sin values.\n",
        "degrees = np.array([0, 30, 45, 60, 90])\n",
        "radians = np.deg2rad(degrees)\n",
        "sin_values = np.sin(radians)\n",
        "\n",
        "print(\"Degrees:\", degrees)\n",
        "print(\"Radians:\", radians)\n",
        "print(\"Sine values:\", sin_values)"
      ]
    },
    {
      "cell_type": "markdown",
      "id": "7c9a5d70",
      "metadata": {
        "id": "7c9a5d70"
      },
      "source": [
        "## <a name='broadcast'></a>8️⃣ Broadcasting Rules"
      ]
    },
    {
      "cell_type": "markdown",
      "id": "aba2764d",
      "metadata": {
        "id": "aba2764d"
      },
      "source": [
        "Rules: compare dimensions from right → left; stretch size 1 dims; mismatch error."
      ]
    },
    {
      "cell_type": "code",
      "execution_count": 43,
      "id": "6313899c",
      "metadata": {
        "id": "6313899c",
        "colab": {
          "base_uri": "https://localhost:8080/"
        },
        "outputId": "ff749d05-fc6b-4705-fd6f-cf7a380205b2"
      },
      "outputs": [
        {
          "output_type": "stream",
          "name": "stdout",
          "text": [
            "[[0 1 2 3 4]\n",
            " [1 2 3 4 5]\n",
            " [2 3 4 5 6]]\n"
          ]
        }
      ],
      "source": [
        "row = np.arange(5)\n",
        "col = np.arange(3).reshape(3,1)\n",
        "matrix = row + col  # broadcast to 3×5\n",
        "print(matrix)\n"
      ]
    },
    {
      "cell_type": "code",
      "execution_count": 44,
      "id": "de718119",
      "metadata": {
        "colab": {
          "base_uri": "https://localhost:8080/"
        },
        "id": "de718119",
        "outputId": "de5776e5-120e-4854-8929-673a8310eb7d"
      },
      "outputs": [
        {
          "output_type": "stream",
          "name": "stdout",
          "text": [
            "[[  1   2   3   4   5   6   7   8   9  10]\n",
            " [  2   4   6   8  10  12  14  16  18  20]\n",
            " [  3   6   9  12  15  18  21  24  27  30]\n",
            " [  4   8  12  16  20  24  28  32  36  40]\n",
            " [  5  10  15  20  25  30  35  40  45  50]\n",
            " [  6  12  18  24  30  36  42  48  54  60]\n",
            " [  7  14  21  28  35  42  49  56  63  70]\n",
            " [  8  16  24  32  40  48  56  64  72  80]\n",
            " [  9  18  27  36  45  54  63  72  81  90]\n",
            " [ 10  20  30  40  50  60  70  80  90 100]]\n"
          ]
        }
      ],
      "source": [
        "# 🖊️ TODO: use broadcasting to create a 10×10 multiplication table.\n",
        "# Create row and column vectors\n",
        "row_vec = np.arange(1, 11)\n",
        "col_vec = np.arange(1, 11).reshape(10, 1)\n",
        "\n",
        "# Use broadcasting to create the multiplication table\n",
        "multiplication_table = row_vec * col_vec\n",
        "print(multiplication_table)"
      ]
    },
    {
      "cell_type": "markdown",
      "id": "38a618c8",
      "metadata": {
        "id": "38a618c8"
      },
      "source": [
        "## <a name='stats'></a>9️⃣ Statistics & Aggregations"
      ]
    },
    {
      "cell_type": "code",
      "execution_count": 45,
      "id": "af9ac70d",
      "metadata": {
        "colab": {
          "base_uri": "https://localhost:8080/"
        },
        "id": "af9ac70d",
        "outputId": "3a6d6363-31cb-4f93-e439-afab517a8c2a"
      },
      "outputs": [
        {
          "output_type": "stream",
          "name": "stdout",
          "text": [
            "data\n",
            " [[85 64 51 27]\n",
            " [31  5  8  2]\n",
            " [18 81 65 91]\n",
            " [50 61 97 73]\n",
            " [63 54 56 93]]\n",
            "row sums [227  46 255 281 266]\n",
            "col means [49.4 53.  55.4 57.2]\n"
          ]
        }
      ],
      "source": [
        "data = np.random.default_rng(0).integers(1, 100, size=(5,4))\n",
        "print('data\\n', data)\n",
        "print('row sums', data.sum(axis=1))\n",
        "print('col means', data.mean(axis=0))\n"
      ]
    },
    {
      "cell_type": "code",
      "execution_count": 46,
      "id": "63adf5be",
      "metadata": {
        "collapsed": true,
        "id": "63adf5be",
        "colab": {
          "base_uri": "https://localhost:8080/"
        },
        "outputId": "2cd0bc2b-492a-4e3c-eacc-1182ddd00e32"
      },
      "outputs": [
        {
          "output_type": "stream",
          "name": "stdout",
          "text": [
            "25th, 50th, and 75th percentiles: [30.  58.5 75. ]\n"
          ]
        }
      ],
      "source": [
        "# 🖊️ TODO: compute `np.percentile` (25th, 50th, 75th) of flattened `data`.\n",
        "percentiles = np.percentile(data.flatten(), [25, 50, 75])\n",
        "print(\"25th, 50th, and 75th percentiles:\", percentiles)"
      ]
    },
    {
      "cell_type": "markdown",
      "id": "8f3c00d7",
      "metadata": {
        "id": "8f3c00d7"
      },
      "source": [
        "## <a name='random'></a>🔟 Random Numbers & Reproducibility"
      ]
    },
    {
      "cell_type": "code",
      "execution_count": 47,
      "id": "98016975",
      "metadata": {
        "id": "98016975",
        "colab": {
          "base_uri": "https://localhost:8080/"
        },
        "outputId": "63956ceb-18e2-4311-ff4d-63214d868305"
      },
      "outputs": [
        {
          "output_type": "stream",
          "name": "stdout",
          "text": [
            "[0.77395605 0.43887844 0.85859792 0.69736803 0.09417735] [31 49 39 40 38]\n"
          ]
        }
      ],
      "source": [
        "rng = np.random.default_rng(42)\n",
        "rand_floats = rng.random(5)\n",
        "rand_ints = rng.integers(low=10, high=50, size=5)\n",
        "print(rand_floats, rand_ints)\n",
        "rng2 = np.random.default_rng(42)\n",
        "assert np.allclose(rand_floats, rng2.random(5))\n"
      ]
    },
    {
      "cell_type": "code",
      "execution_count": 48,
      "id": "35dbadba",
      "metadata": {
        "id": "35dbadba",
        "colab": {
          "base_uri": "https://localhost:8080/"
        },
        "outputId": "00460530-75b2-40d9-943e-bea3ed0360d3"
      },
      "outputs": [
        {
          "output_type": "stream",
          "name": "stdout",
          "text": [
            "Simulated 100 rolls. Proportion of 6s: 0.12\n"
          ]
        }
      ],
      "source": [
        "# 🖊️ TODO: simulate rolling a fair six‑sided die 100 times; estimate proportion of 6s.\n",
        "num_rolls = 100\n",
        "rolls = rng.integers(1, 7, size=num_rolls)  # Simulate 100 rolls of a die (1 to 6)\n",
        "proportion_of_sixes = np.sum(rolls == 6) / num_rolls\n",
        "print(f\"Simulated {num_rolls} rolls. Proportion of 6s: {proportion_of_sixes}\")"
      ]
    },
    {
      "cell_type": "markdown",
      "id": "6cdb04b2",
      "metadata": {
        "id": "6cdb04b2"
      },
      "source": [
        "## <a name='structured'></a>1️⃣1️⃣ Structured / Record Arrays"
      ]
    },
    {
      "cell_type": "code",
      "execution_count": 49,
      "id": "d8f64e42",
      "metadata": {
        "id": "d8f64e42",
        "colab": {
          "base_uri": "https://localhost:8080/"
        },
        "outputId": "0089aeb9-7b83-48ec-9a13-7f8adbc43d1d"
      },
      "outputs": [
        {
          "output_type": "stream",
          "name": "stdout",
          "text": [
            "['Alice' 'Bob'] 27.5\n"
          ]
        }
      ],
      "source": [
        "people = np.array([('Alice', 25, 55.0), ('Bob', 30, 85.5)],\n",
        "                   dtype=[('name','U10'), ('age','i4'), ('weight','f4')])\n",
        "print(people['name'], people['age'].mean())\n"
      ]
    },
    {
      "cell_type": "code",
      "execution_count": 50,
      "id": "7a65fe1d",
      "metadata": {
        "id": "7a65fe1d",
        "colab": {
          "base_uri": "https://localhost:8080/"
        },
        "outputId": "cf7671f7-f43e-4763-bb8a-17ba7a150371"
      },
      "outputs": [
        {
          "output_type": "stream",
          "name": "stdout",
          "text": [
            "[('Alice', 25, 55. , 1.65) ('Bob', 30, 85.5, 1.8 )]\n"
          ]
        }
      ],
      "source": [
        "# 🖊️ TODO: add a new field 'height' to the structured array using `np.lib.recfunctions.append_fields` (hint: pip install?).\n",
        "import numpy.lib.recfunctions as rfn\n",
        "\n",
        "# Assuming heights for Alice and Bob\n",
        "heights = np.array([1.65, 1.80], dtype='f4')\n",
        "\n",
        "# Append the 'height' field\n",
        "people_with_height = rfn.append_fields(people, 'height', heights, usemask=False)\n",
        "\n",
        "print(people_with_height)"
      ]
    },
    {
      "cell_type": "markdown",
      "id": "df5b617b",
      "metadata": {
        "id": "df5b617b"
      },
      "source": [
        "## <a name='linalg'></a>1️⃣2️⃣ Linear Algebra Essentials"
      ]
    },
    {
      "cell_type": "code",
      "execution_count": 51,
      "id": "3f7fb475",
      "metadata": {
        "id": "3f7fb475",
        "colab": {
          "base_uri": "https://localhost:8080/"
        },
        "outputId": "cdcbc3b2-b5cb-4b07-f92a-96f95611ffbd"
      },
      "outputs": [
        {
          "output_type": "stream",
          "name": "stdout",
          "text": [
            "A·x ≈ b? True\n"
          ]
        }
      ],
      "source": [
        "A = np.random.random((3,3))\n",
        "b = np.random.random(3)\n",
        "x = np.linalg.solve(A, b)\n",
        "print('A·x ≈ b?', np.allclose(A.dot(x), b))\n"
      ]
    },
    {
      "cell_type": "code",
      "execution_count": 52,
      "id": "a8fb02d7",
      "metadata": {
        "id": "a8fb02d7",
        "colab": {
          "base_uri": "https://localhost:8080/"
        },
        "outputId": "6f90f330-2012-4857-bf6c-50308124c92f"
      },
      "outputs": [
        {
          "output_type": "stream",
          "name": "stdout",
          "text": [
            "Eigenvalues of A: [1.83560342+0.j         0.38817053+0.14837904j 0.38817053-0.14837904j]\n"
          ]
        }
      ],
      "source": [
        "# 🖊️ TODO: compute eigenvalues of `A` using `np.linalg.eig`.\n",
        "eigenvalues, eigenvectors = np.linalg.eig(A)\n",
        "print(\"Eigenvalues of A:\", eigenvalues)\n",
        "# print(\"Eigenvectors of A:\\n\", eigenvectors) # Optional: print eigenvectors as well"
      ]
    },
    {
      "cell_type": "markdown",
      "id": "e8fd753c",
      "metadata": {
        "id": "e8fd753c"
      },
      "source": [
        "## <a name='io'></a>1️⃣3️⃣ File I/O (`npy`, `npz`, `txt`)"
      ]
    },
    {
      "cell_type": "code",
      "execution_count": 53,
      "id": "bd6dc026",
      "metadata": {
        "id": "bd6dc026",
        "colab": {
          "base_uri": "https://localhost:8080/"
        },
        "outputId": "174f65c4-2245-47fc-8228-730601dd14d4"
      },
      "outputs": [
        {
          "output_type": "stream",
          "name": "stdout",
          "text": [
            "loaded equals A? True\n"
          ]
        }
      ],
      "source": [
        "np.save('array.npy', A)\n",
        "loaded = np.load('array.npy')\n",
        "print('loaded equals A?', np.allclose(loaded, A))\n",
        "np.savez('multi_arrays.npz', A=A, b=b)\n"
      ]
    },
    {
      "cell_type": "code",
      "execution_count": 54,
      "id": "d9552893",
      "metadata": {
        "id": "d9552893",
        "colab": {
          "base_uri": "https://localhost:8080/"
        },
        "outputId": "0ac5f8a4-6dce-498c-fe32-1e42f29bd349"
      },
      "outputs": [
        {
          "output_type": "stream",
          "name": "stdout",
          "text": [
            "Original data:\n",
            " [[85 64 51 27]\n",
            " [31  5  8  2]\n",
            " [18 81 65 91]\n",
            " [50 61 97 73]\n",
            " [63 54 56 93]]\n",
            "\n",
            "Loaded data:\n",
            " [[85. 64. 51. 27.]\n",
            " [31.  5.  8.  2.]\n",
            " [18. 81. 65. 91.]\n",
            " [50. 61. 97. 73.]\n",
            " [63. 54. 56. 93.]]\n",
            "\n",
            "Original and loaded data are equal: True\n"
          ]
        }
      ],
      "source": [
        "# 🖊️ TODO: Use `np.savetxt` to write `data` (from stats section) to CSV then reload with `np.loadtxt`.\n",
        "file_path = 'data.csv'\n",
        "np.savetxt(file_path, data, delimiter=',')\n",
        "\n",
        "loaded_data = np.loadtxt(file_path, delimiter=',')\n",
        "\n",
        "print(\"Original data:\\n\", data)\n",
        "print(\"\\nLoaded data:\\n\", loaded_data)\n",
        "print(\"\\nOriginal and loaded data are equal:\", np.allclose(data, loaded_data))"
      ]
    },
    {
      "cell_type": "markdown",
      "id": "f24f33e3",
      "metadata": {
        "id": "f24f33e3"
      },
      "source": [
        "## <a name='datetime'></a>1️⃣4️⃣ Datetime64 & Timedelta64"
      ]
    },
    {
      "cell_type": "code",
      "execution_count": 55,
      "id": "3ce7b543",
      "metadata": {
        "id": "3ce7b543",
        "colab": {
          "base_uri": "https://localhost:8080/"
        },
        "outputId": "ec067e11-dac7-42d2-bb9d-1c48a59001f4"
      },
      "outputs": [
        {
          "output_type": "stream",
          "name": "stdout",
          "text": [
            "['2023-01-01' '2023-01-02' '2023-01-03' '2023-01-04' '2023-01-05'] 1 days\n"
          ]
        }
      ],
      "source": [
        "dates = np.arange('2023-01', '2023-04', dtype='datetime64[D]')\n",
        "delta = dates[1:] - dates[:-1]\n",
        "print(dates[:5], delta[0])\n"
      ]
    },
    {
      "cell_type": "code",
      "execution_count": 56,
      "id": "e493d6f8",
      "metadata": {
        "id": "e493d6f8",
        "colab": {
          "base_uri": "https://localhost:8080/"
        },
        "outputId": "62c0ba14-5bee-406b-dd12-bfc3e5069f61"
      },
      "outputs": [
        {
          "output_type": "stream",
          "name": "stdout",
          "text": [
            "Number of Mondays in the dates array: 13\n"
          ]
        }
      ],
      "source": [
        "# 🖊️ TODO: find how many Mondays appear in `dates` array.\n",
        "weekdays = (dates.astype('datetime64[D]').view('int64') - 4) % 7\n",
        "num_mondays = np.sum(weekdays == 0)\n",
        "\n",
        "print(f\"Number of Mondays in the dates array: {num_mondays}\")"
      ]
    },
    {
      "cell_type": "markdown",
      "id": "636116b9",
      "metadata": {
        "id": "636116b9"
      },
      "source": [
        "## <a name='mask'></a>1️⃣5️⃣ Masked Arrays & NaNs"
      ]
    },
    {
      "cell_type": "code",
      "execution_count": 57,
      "id": "ec30b3ee",
      "metadata": {
        "id": "ec30b3ee",
        "colab": {
          "base_uri": "https://localhost:8080/"
        },
        "outputId": "009d0891-ff8a-41b3-d69e-9cc581b4194b"
      },
      "outputs": [
        {
          "output_type": "stream",
          "name": "stdout",
          "text": [
            "2.3333333333333335\n"
          ]
        }
      ],
      "source": [
        "arr = np.array([1, 2, np.nan, 4, np.nan])\n",
        "masked = np.ma.masked_invalid(arr)\n",
        "print(masked.mean())\n"
      ]
    },
    {
      "cell_type": "code",
      "source": [
        "# 🖊️ TODO: replace NaNs with column means in a 2‑D array containing NaNs.\n",
        "arr_2d_nan = np.array([[1, 2, np.nan, 4],\n",
        "                       [5, np.nan, 7, 8],\n",
        "                       [9, 10, 11, np.nan],\n",
        "                       [13, 14, np.nan, 16]])\n",
        "\n",
        "print(\"Original array with NaNs:\\n\", arr_2d_nan)\n",
        "\n",
        "col_means = np.nanmean(arr_2d_nan, axis=0)\n",
        "nan_indices = np.isnan(arr_2d_nan)\n",
        "\n",
        "arr_2d_filled = arr_2d_nan.copy() # Create a copy to avoid modifying the original array\n",
        "arr_2d_filled[nan_indices] = np.take(col_means, np.where(nan_indices)[1])\n",
        "\n",
        "print(\"\\nArray with NaNs replaced by column means:\\n\", arr_2d_filled)"
      ],
      "metadata": {
        "colab": {
          "base_uri": "https://localhost:8080/"
        },
        "id": "enXTWC95ivGf",
        "outputId": "894bcc2b-e97b-435c-a382-393b64fb8a22"
      },
      "id": "enXTWC95ivGf",
      "execution_count": 58,
      "outputs": [
        {
          "output_type": "stream",
          "name": "stdout",
          "text": [
            "Original array with NaNs:\n",
            " [[ 1.  2. nan  4.]\n",
            " [ 5. nan  7.  8.]\n",
            " [ 9. 10. 11. nan]\n",
            " [13. 14. nan 16.]]\n",
            "\n",
            "Array with NaNs replaced by column means:\n",
            " [[ 1.          2.          9.          4.        ]\n",
            " [ 5.          8.66666667  7.          8.        ]\n",
            " [ 9.         10.         11.          9.33333333]\n",
            " [13.         14.          9.         16.        ]]\n"
          ]
        }
      ]
    },
    {
      "cell_type": "markdown",
      "id": "509e6104",
      "metadata": {
        "id": "509e6104"
      },
      "source": [
        "## <a name='project'></a>1️⃣6️⃣ Mini‑Project: Fitness Data Analysis"
      ]
    },
    {
      "cell_type": "markdown",
      "id": "d867d3a6",
      "metadata": {
        "id": "d867d3a6"
      },
      "source": [
        "Load `fitness.txt` (tab‑separated) then follow prompts."
      ]
    },
    {
      "cell_type": "code",
      "execution_count": 59,
      "id": "593e50db",
      "metadata": {
        "id": "593e50db",
        "colab": {
          "base_uri": "https://localhost:8080/"
        },
        "outputId": "f3b43240-3217-4350-d93f-ad8a7a989c6b"
      },
      "outputs": [
        {
          "output_type": "stream",
          "name": "stdout",
          "text": [
            "columns: ('date________step_count________mood________calories_burned________hours_of_sleep________bool_of_active________weight_kg',) rows: 96\n"
          ]
        }
      ],
      "source": [
        "fitness = np.genfromtxt('fitness.txt', delimiter='\\t', dtype=None, encoding=None, names=True)\n",
        "print('columns:', fitness.dtype.names, 'rows:', len(fitness))\n"
      ]
    },
    {
      "cell_type": "code",
      "execution_count": 61,
      "id": "32e514d2",
      "metadata": {
        "id": "32e514d2",
        "colab": {
          "base_uri": "https://localhost:8080/"
        },
        "outputId": "9de6bbb1-d891-46c7-9777-5fb2c90e3bc9"
      },
      "outputs": [
        {
          "output_type": "stream",
          "name": "stdout",
          "text": [
            "📆 Monthly Step Count:\n",
            " date\n",
            "2017-10-31     79051\n",
            "2017-11-30    103071\n",
            "2017-12-31     89565\n",
            "2018-01-31     10163\n",
            "Freq: ME, Name: step_count, dtype: int64\n",
            "\n",
            "😴 Sleep vs Mood Correlation: 0.210\n",
            "\n",
            "📊 Weekly Summary:\n",
            "              step_count        mood  hours_of_sleep  bool_of_active\n",
            "date                                                               \n",
            "2017-10-08  3843.333333  133.333333        6.000000               0\n",
            "2017-10-15  3401.428571  114.285714        5.571429               1\n",
            "2017-10-22  2952.714286  128.571429        6.428571               1\n",
            "2017-10-29  2326.142857  214.285714        5.571429               0\n",
            "2017-11-05  2942.571429  285.714286        5.142857               2\n",
            "2017-11-12  4459.571429  285.714286        4.714286               2\n",
            "2017-11-19  2530.571429  285.714286        5.571429               7\n",
            "2017-11-26  3979.857143  300.000000        5.714286               1\n",
            "2017-12-03  2671.571429  257.142857        6.428571               7\n",
            "2017-12-10  3025.428571  214.285714        5.428571               6\n",
            "2017-12-17  3232.571429  185.714286        4.285714               5\n",
            "2017-12-24  2954.571429  142.857143        4.857143               4\n",
            "2017-12-31  2688.285714  185.714286        4.142857               4\n",
            "2018-01-07   833.285714  171.428571        3.714286               1\n",
            "2018-01-14  2165.000000  250.000000        5.000000               1\n"
          ]
        }
      ],
      "source": [
        "# 🖊️ TODO: Monthly step count, sleep vs mood correlation, weekly summary, etc.\n",
        "import pandas as pd\n",
        "\n",
        "file_path = \"fitness.txt\"\n",
        "df = pd.read_csv(file_path, sep='\\s+', parse_dates=[\"#date\"])\n",
        "df.rename(columns={\"#date\": \"date\"}, inplace=True)\n",
        "\n",
        "df[\"date\"] = pd.to_datetime(df[\"date\"], dayfirst=True)\n",
        "df.set_index(\"date\", inplace=True)\n",
        "df.sort_index(inplace=True)\n",
        "\n",
        "monthly_steps = df[\"step_count\"].resample(\"ME\").sum()\n",
        "print(\"📆 Monthly Step Count:\\n\", monthly_steps)\n",
        "\n",
        "sleep_mood_corr = df[\"hours_of_sleep\"].corr(df[\"mood\"])\n",
        "print(f\"\\n😴 Sleep vs Mood Correlation: {sleep_mood_corr:.3f}\")\n",
        "\n",
        "weekly_summary = df.resample(\"W\").agg({\n",
        "    \"step_count\": \"mean\",\n",
        "    \"mood\": \"mean\",\n",
        "    \"hours_of_sleep\": \"mean\",\n",
        "    \"bool_of_active\": lambda x: (x > 0).sum()\n",
        "})\n",
        "print(\"\\n📊 Weekly Summary:\\n\", weekly_summary)\n"
      ]
    },
    {
      "cell_type": "markdown",
      "source": [],
      "metadata": {
        "id": "vGs9ALgblB4i"
      },
      "id": "vGs9ALgblB4i"
    },
    {
      "cell_type": "markdown",
      "id": "e7c0e1dc",
      "metadata": {
        "id": "e7c0e1dc"
      },
      "source": [
        "## <a name='conclusion'></a>1️⃣7️⃣ Conclusion & Further Practice\n",
        "Congrats on covering **all core NumPy topics** from your five lecture notebooks!\n",
        "\n",
        "*Keep experimenting, read the official docs, and try converting your NumPy pipelines into Pandas or JAX for more fun.*"
      ]
    }
  ],
  "metadata": {
    "colab": {
      "provenance": []
    },
    "language_info": {
      "name": "python"
    },
    "kernelspec": {
      "name": "python3",
      "display_name": "Python 3"
    }
  },
  "nbformat": 4,
  "nbformat_minor": 5
}