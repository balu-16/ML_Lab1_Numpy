{
  "cells": [
    {
      "cell_type": "markdown",
      "metadata": {
        "id": "b7e38350"
      },
      "source": [
        "# 🍷 Wine Quality Dataset — Linear Regression (Step-by-Step, Beginner Friendly)\n",
        "*Generated on 2025-09-12 03:29:55*\n",
        "\n",
        "This notebook teaches **Linear Regression** with a Wine Quality dataset in **small, easy steps**.\n",
        "Each step ends with a short **📝 TODO** so you can practice.\n",
        "\n",
        "What you'll do:\n",
        "1. Download + load the dataset (via **gdown**)\n",
        "2. Inspect + clean data (simple)\n",
        "3. Univariate plots (histograms)\n",
        "4. Single-variable Linear Regression (fit + plot)\n",
        "5. Multi-variable Linear Regression (fit + metrics)\n",
        "6. Diagnostic plots (residuals)\n",
        "7. Polynomial features + **GridSearchCV** to find the **best degree**\n",
        "8. Brief coefficient interpretation\n",
        "9. Linear Regression — Quick Assumptions Checklist\n",
        "10. Assumption Checks — Code You Can Run"
      ],
      "id": "b7e38350"
    },
    {
      "cell_type": "markdown",
      "id": "fdffcadd",
      "metadata": {
        "id": "fdffcadd"
      },
      "source": [
        "## 0) Setup"
      ]
    },
    {
      "cell_type": "code",
      "execution_count": null,
      "id": "cb8e4946",
      "metadata": {
        "id": "cb8e4946"
      },
      "outputs": [],
      "source": [
        "\n",
        "#@title Install & import (safe to re-run)\n",
        "import sys, subprocess\n",
        "\n",
        "def pip_install(pkg):\n",
        "    subprocess.run([sys.executable, \"-m\", \"pip\", \"install\", \"-q\", pkg], check=False)\n",
        "\n",
        "pip_install(\"gdown>=5.1\")\n",
        "pip_install(\"pandas>=1.5\")\n",
        "pip_install(\"numpy>=1.23\")\n",
        "pip_install(\"matplotlib>=3.7\")\n",
        "pip_install(\"scikit-learn>=1.3\")\n",
        "\n",
        "import gdown, os\n",
        "import numpy as np\n",
        "import pandas as pd\n",
        "import matplotlib.pyplot as plt\n",
        "\n",
        "from sklearn.model_selection import train_test_split, GridSearchCV\n",
        "from sklearn.linear_model import LinearRegression\n",
        "from sklearn.preprocessing import PolynomialFeatures, StandardScaler\n",
        "from sklearn.pipeline import Pipeline\n",
        "from sklearn.metrics import mean_absolute_error, mean_squared_error, r2_score\n"
      ]
    },
    {
      "cell_type": "markdown",
      "id": "307ee8a7",
      "metadata": {
        "id": "307ee8a7"
      },
      "source": [
        "## 1) Download & Load the Dataset"
      ]
    },
    {
      "cell_type": "code",
      "execution_count": null,
      "id": "c5c3cd0e",
      "metadata": {
        "colab": {
          "base_uri": "https://localhost:8080/",
          "height": 258
        },
        "id": "c5c3cd0e",
        "outputId": "80617f9f-d294-4b4c-a39b-2fc7f16e6711"
      },
      "outputs": [
        {
          "output_type": "stream",
          "name": "stdout",
          "text": [
            "Found existing file: WineQT.csv\n",
            "✅ Loaded: (1143, 13)\n"
          ]
        },
        {
          "output_type": "execute_result",
          "data": {
            "text/plain": [
              "   fixed acidity  volatile acidity  citric acid  residual sugar  chlorides  \\\n",
              "0            7.4              0.70         0.00             1.9      0.076   \n",
              "1            7.8              0.88         0.00             2.6      0.098   \n",
              "2            7.8              0.76         0.04             2.3      0.092   \n",
              "3           11.2              0.28         0.56             1.9      0.075   \n",
              "4            7.4              0.70         0.00             1.9      0.076   \n",
              "\n",
              "   free sulfur dioxide  total sulfur dioxide  density    pH  sulphates  \\\n",
              "0                 11.0                  34.0   0.9978  3.51       0.56   \n",
              "1                 25.0                  67.0   0.9968  3.20       0.68   \n",
              "2                 15.0                  54.0   0.9970  3.26       0.65   \n",
              "3                 17.0                  60.0   0.9980  3.16       0.58   \n",
              "4                 11.0                  34.0   0.9978  3.51       0.56   \n",
              "\n",
              "   alcohol  quality  Id  \n",
              "0      9.4        5   0  \n",
              "1      9.8        5   1  \n",
              "2      9.8        5   2  \n",
              "3      9.8        6   3  \n",
              "4      9.4        5   4  "
            ],
            "text/html": [
              "\n",
              "  <div id=\"df-34d0f8e2-f1b3-45c0-81c5-a2836cba290f\" class=\"colab-df-container\">\n",
              "    <div>\n",
              "<style scoped>\n",
              "    .dataframe tbody tr th:only-of-type {\n",
              "        vertical-align: middle;\n",
              "    }\n",
              "\n",
              "    .dataframe tbody tr th {\n",
              "        vertical-align: top;\n",
              "    }\n",
              "\n",
              "    .dataframe thead th {\n",
              "        text-align: right;\n",
              "    }\n",
              "</style>\n",
              "<table border=\"1\" class=\"dataframe\">\n",
              "  <thead>\n",
              "    <tr style=\"text-align: right;\">\n",
              "      <th></th>\n",
              "      <th>fixed acidity</th>\n",
              "      <th>volatile acidity</th>\n",
              "      <th>citric acid</th>\n",
              "      <th>residual sugar</th>\n",
              "      <th>chlorides</th>\n",
              "      <th>free sulfur dioxide</th>\n",
              "      <th>total sulfur dioxide</th>\n",
              "      <th>density</th>\n",
              "      <th>pH</th>\n",
              "      <th>sulphates</th>\n",
              "      <th>alcohol</th>\n",
              "      <th>quality</th>\n",
              "      <th>Id</th>\n",
              "    </tr>\n",
              "  </thead>\n",
              "  <tbody>\n",
              "    <tr>\n",
              "      <th>0</th>\n",
              "      <td>7.4</td>\n",
              "      <td>0.70</td>\n",
              "      <td>0.00</td>\n",
              "      <td>1.9</td>\n",
              "      <td>0.076</td>\n",
              "      <td>11.0</td>\n",
              "      <td>34.0</td>\n",
              "      <td>0.9978</td>\n",
              "      <td>3.51</td>\n",
              "      <td>0.56</td>\n",
              "      <td>9.4</td>\n",
              "      <td>5</td>\n",
              "      <td>0</td>\n",
              "    </tr>\n",
              "    <tr>\n",
              "      <th>1</th>\n",
              "      <td>7.8</td>\n",
              "      <td>0.88</td>\n",
              "      <td>0.00</td>\n",
              "      <td>2.6</td>\n",
              "      <td>0.098</td>\n",
              "      <td>25.0</td>\n",
              "      <td>67.0</td>\n",
              "      <td>0.9968</td>\n",
              "      <td>3.20</td>\n",
              "      <td>0.68</td>\n",
              "      <td>9.8</td>\n",
              "      <td>5</td>\n",
              "      <td>1</td>\n",
              "    </tr>\n",
              "    <tr>\n",
              "      <th>2</th>\n",
              "      <td>7.8</td>\n",
              "      <td>0.76</td>\n",
              "      <td>0.04</td>\n",
              "      <td>2.3</td>\n",
              "      <td>0.092</td>\n",
              "      <td>15.0</td>\n",
              "      <td>54.0</td>\n",
              "      <td>0.9970</td>\n",
              "      <td>3.26</td>\n",
              "      <td>0.65</td>\n",
              "      <td>9.8</td>\n",
              "      <td>5</td>\n",
              "      <td>2</td>\n",
              "    </tr>\n",
              "    <tr>\n",
              "      <th>3</th>\n",
              "      <td>11.2</td>\n",
              "      <td>0.28</td>\n",
              "      <td>0.56</td>\n",
              "      <td>1.9</td>\n",
              "      <td>0.075</td>\n",
              "      <td>17.0</td>\n",
              "      <td>60.0</td>\n",
              "      <td>0.9980</td>\n",
              "      <td>3.16</td>\n",
              "      <td>0.58</td>\n",
              "      <td>9.8</td>\n",
              "      <td>6</td>\n",
              "      <td>3</td>\n",
              "    </tr>\n",
              "    <tr>\n",
              "      <th>4</th>\n",
              "      <td>7.4</td>\n",
              "      <td>0.70</td>\n",
              "      <td>0.00</td>\n",
              "      <td>1.9</td>\n",
              "      <td>0.076</td>\n",
              "      <td>11.0</td>\n",
              "      <td>34.0</td>\n",
              "      <td>0.9978</td>\n",
              "      <td>3.51</td>\n",
              "      <td>0.56</td>\n",
              "      <td>9.4</td>\n",
              "      <td>5</td>\n",
              "      <td>4</td>\n",
              "    </tr>\n",
              "  </tbody>\n",
              "</table>\n",
              "</div>\n",
              "    <div class=\"colab-df-buttons\">\n",
              "\n",
              "  <div class=\"colab-df-container\">\n",
              "    <button class=\"colab-df-convert\" onclick=\"convertToInteractive('df-34d0f8e2-f1b3-45c0-81c5-a2836cba290f')\"\n",
              "            title=\"Convert this dataframe to an interactive table.\"\n",
              "            style=\"display:none;\">\n",
              "\n",
              "  <svg xmlns=\"http://www.w3.org/2000/svg\" height=\"24px\" viewBox=\"0 -960 960 960\">\n",
              "    <path d=\"M120-120v-720h720v720H120Zm60-500h600v-160H180v160Zm220 220h160v-160H400v160Zm0 220h160v-160H400v160ZM180-400h160v-160H180v160Zm440 0h160v-160H620v160ZM180-180h160v-160H180v160Zm440 0h160v-160H620v160Z\"/>\n",
              "  </svg>\n",
              "    </button>\n",
              "\n",
              "  <style>\n",
              "    .colab-df-container {\n",
              "      display:flex;\n",
              "      gap: 12px;\n",
              "    }\n",
              "\n",
              "    .colab-df-convert {\n",
              "      background-color: #E8F0FE;\n",
              "      border: none;\n",
              "      border-radius: 50%;\n",
              "      cursor: pointer;\n",
              "      display: none;\n",
              "      fill: #1967D2;\n",
              "      height: 32px;\n",
              "      padding: 0 0 0 0;\n",
              "      width: 32px;\n",
              "    }\n",
              "\n",
              "    .colab-df-convert:hover {\n",
              "      background-color: #E2EBFA;\n",
              "      box-shadow: 0px 1px 2px rgba(60, 64, 67, 0.3), 0px 1px 3px 1px rgba(60, 64, 67, 0.15);\n",
              "      fill: #174EA6;\n",
              "    }\n",
              "\n",
              "    .colab-df-buttons div {\n",
              "      margin-bottom: 4px;\n",
              "    }\n",
              "\n",
              "    [theme=dark] .colab-df-convert {\n",
              "      background-color: #3B4455;\n",
              "      fill: #D2E3FC;\n",
              "    }\n",
              "\n",
              "    [theme=dark] .colab-df-convert:hover {\n",
              "      background-color: #434B5C;\n",
              "      box-shadow: 0px 1px 3px 1px rgba(0, 0, 0, 0.15);\n",
              "      filter: drop-shadow(0px 1px 2px rgba(0, 0, 0, 0.3));\n",
              "      fill: #FFFFFF;\n",
              "    }\n",
              "  </style>\n",
              "\n",
              "    <script>\n",
              "      const buttonEl =\n",
              "        document.querySelector('#df-34d0f8e2-f1b3-45c0-81c5-a2836cba290f button.colab-df-convert');\n",
              "      buttonEl.style.display =\n",
              "        google.colab.kernel.accessAllowed ? 'block' : 'none';\n",
              "\n",
              "      async function convertToInteractive(key) {\n",
              "        const element = document.querySelector('#df-34d0f8e2-f1b3-45c0-81c5-a2836cba290f');\n",
              "        const dataTable =\n",
              "          await google.colab.kernel.invokeFunction('convertToInteractive',\n",
              "                                                    [key], {});\n",
              "        if (!dataTable) return;\n",
              "\n",
              "        const docLinkHtml = 'Like what you see? Visit the ' +\n",
              "          '<a target=\"_blank\" href=https://colab.research.google.com/notebooks/data_table.ipynb>data table notebook</a>'\n",
              "          + ' to learn more about interactive tables.';\n",
              "        element.innerHTML = '';\n",
              "        dataTable['output_type'] = 'display_data';\n",
              "        await google.colab.output.renderOutput(dataTable, element);\n",
              "        const docLink = document.createElement('div');\n",
              "        docLink.innerHTML = docLinkHtml;\n",
              "        element.appendChild(docLink);\n",
              "      }\n",
              "    </script>\n",
              "  </div>\n",
              "\n",
              "\n",
              "    <div id=\"df-e799d2a0-b327-4217-bad2-ce0f7b34d8f3\">\n",
              "      <button class=\"colab-df-quickchart\" onclick=\"quickchart('df-e799d2a0-b327-4217-bad2-ce0f7b34d8f3')\"\n",
              "                title=\"Suggest charts\"\n",
              "                style=\"display:none;\">\n",
              "\n",
              "<svg xmlns=\"http://www.w3.org/2000/svg\" height=\"24px\"viewBox=\"0 0 24 24\"\n",
              "     width=\"24px\">\n",
              "    <g>\n",
              "        <path d=\"M19 3H5c-1.1 0-2 .9-2 2v14c0 1.1.9 2 2 2h14c1.1 0 2-.9 2-2V5c0-1.1-.9-2-2-2zM9 17H7v-7h2v7zm4 0h-2V7h2v10zm4 0h-2v-4h2v4z\"/>\n",
              "    </g>\n",
              "</svg>\n",
              "      </button>\n",
              "\n",
              "<style>\n",
              "  .colab-df-quickchart {\n",
              "      --bg-color: #E8F0FE;\n",
              "      --fill-color: #1967D2;\n",
              "      --hover-bg-color: #E2EBFA;\n",
              "      --hover-fill-color: #174EA6;\n",
              "      --disabled-fill-color: #AAA;\n",
              "      --disabled-bg-color: #DDD;\n",
              "  }\n",
              "\n",
              "  [theme=dark] .colab-df-quickchart {\n",
              "      --bg-color: #3B4455;\n",
              "      --fill-color: #D2E3FC;\n",
              "      --hover-bg-color: #434B5C;\n",
              "      --hover-fill-color: #FFFFFF;\n",
              "      --disabled-bg-color: #3B4455;\n",
              "      --disabled-fill-color: #666;\n",
              "  }\n",
              "\n",
              "  .colab-df-quickchart {\n",
              "    background-color: var(--bg-color);\n",
              "    border: none;\n",
              "    border-radius: 50%;\n",
              "    cursor: pointer;\n",
              "    display: none;\n",
              "    fill: var(--fill-color);\n",
              "    height: 32px;\n",
              "    padding: 0;\n",
              "    width: 32px;\n",
              "  }\n",
              "\n",
              "  .colab-df-quickchart:hover {\n",
              "    background-color: var(--hover-bg-color);\n",
              "    box-shadow: 0 1px 2px rgba(60, 64, 67, 0.3), 0 1px 3px 1px rgba(60, 64, 67, 0.15);\n",
              "    fill: var(--button-hover-fill-color);\n",
              "  }\n",
              "\n",
              "  .colab-df-quickchart-complete:disabled,\n",
              "  .colab-df-quickchart-complete:disabled:hover {\n",
              "    background-color: var(--disabled-bg-color);\n",
              "    fill: var(--disabled-fill-color);\n",
              "    box-shadow: none;\n",
              "  }\n",
              "\n",
              "  .colab-df-spinner {\n",
              "    border: 2px solid var(--fill-color);\n",
              "    border-color: transparent;\n",
              "    border-bottom-color: var(--fill-color);\n",
              "    animation:\n",
              "      spin 1s steps(1) infinite;\n",
              "  }\n",
              "\n",
              "  @keyframes spin {\n",
              "    0% {\n",
              "      border-color: transparent;\n",
              "      border-bottom-color: var(--fill-color);\n",
              "      border-left-color: var(--fill-color);\n",
              "    }\n",
              "    20% {\n",
              "      border-color: transparent;\n",
              "      border-left-color: var(--fill-color);\n",
              "      border-top-color: var(--fill-color);\n",
              "    }\n",
              "    30% {\n",
              "      border-color: transparent;\n",
              "      border-left-color: var(--fill-color);\n",
              "      border-top-color: var(--fill-color);\n",
              "      border-right-color: var(--fill-color);\n",
              "    }\n",
              "    40% {\n",
              "      border-color: transparent;\n",
              "      border-right-color: var(--fill-color);\n",
              "      border-top-color: var(--fill-color);\n",
              "    }\n",
              "    60% {\n",
              "      border-color: transparent;\n",
              "      border-right-color: var(--fill-color);\n",
              "    }\n",
              "    80% {\n",
              "      border-color: transparent;\n",
              "      border-right-color: var(--fill-color);\n",
              "      border-bottom-color: var(--fill-color);\n",
              "    }\n",
              "    90% {\n",
              "      border-color: transparent;\n",
              "      border-bottom-color: var(--fill-color);\n",
              "    }\n",
              "  }\n",
              "</style>\n",
              "\n",
              "      <script>\n",
              "        async function quickchart(key) {\n",
              "          const quickchartButtonEl =\n",
              "            document.querySelector('#' + key + ' button');\n",
              "          quickchartButtonEl.disabled = true;  // To prevent multiple clicks.\n",
              "          quickchartButtonEl.classList.add('colab-df-spinner');\n",
              "          try {\n",
              "            const charts = await google.colab.kernel.invokeFunction(\n",
              "                'suggestCharts', [key], {});\n",
              "          } catch (error) {\n",
              "            console.error('Error during call to suggestCharts:', error);\n",
              "          }\n",
              "          quickchartButtonEl.classList.remove('colab-df-spinner');\n",
              "          quickchartButtonEl.classList.add('colab-df-quickchart-complete');\n",
              "        }\n",
              "        (() => {\n",
              "          let quickchartButtonEl =\n",
              "            document.querySelector('#df-e799d2a0-b327-4217-bad2-ce0f7b34d8f3 button');\n",
              "          quickchartButtonEl.style.display =\n",
              "            google.colab.kernel.accessAllowed ? 'block' : 'none';\n",
              "        })();\n",
              "      </script>\n",
              "    </div>\n",
              "\n",
              "    </div>\n",
              "  </div>\n"
            ],
            "application/vnd.google.colaboratory.intrinsic+json": {
              "type": "dataframe",
              "variable_name": "df",
              "summary": "{\n  \"name\": \"df\",\n  \"rows\": 1143,\n  \"fields\": [\n    {\n      \"column\": \"fixed acidity\",\n      \"properties\": {\n        \"dtype\": \"number\",\n        \"std\": 1.747595017169539,\n        \"min\": 4.6,\n        \"max\": 15.9,\n        \"num_unique_values\": 91,\n        \"samples\": [\n          9.7,\n          7.0,\n          9.0\n        ],\n        \"semantic_type\": \"\",\n        \"description\": \"\"\n      }\n    },\n    {\n      \"column\": \"volatile acidity\",\n      \"properties\": {\n        \"dtype\": \"number\",\n        \"std\": 0.17963319302252445,\n        \"min\": 0.12,\n        \"max\": 1.58,\n        \"num_unique_values\": 135,\n        \"samples\": [\n          0.715,\n          0.48,\n          0.92\n        ],\n        \"semantic_type\": \"\",\n        \"description\": \"\"\n      }\n    },\n    {\n      \"column\": \"citric acid\",\n      \"properties\": {\n        \"dtype\": \"number\",\n        \"std\": 0.1966858523482191,\n        \"min\": 0.0,\n        \"max\": 1.0,\n        \"num_unique_values\": 77,\n        \"samples\": [\n          0.02,\n          0.19,\n          0.11\n        ],\n        \"semantic_type\": \"\",\n        \"description\": \"\"\n      }\n    },\n    {\n      \"column\": \"residual sugar\",\n      \"properties\": {\n        \"dtype\": \"number\",\n        \"std\": 1.355917466682676,\n        \"min\": 0.9,\n        \"max\": 15.5,\n        \"num_unique_values\": 80,\n        \"samples\": [\n          4.0,\n          1.9,\n          7.2\n        ],\n        \"semantic_type\": \"\",\n        \"description\": \"\"\n      }\n    },\n    {\n      \"column\": \"chlorides\",\n      \"properties\": {\n        \"dtype\": \"number\",\n        \"std\": 0.04726733795238058,\n        \"min\": 0.012,\n        \"max\": 0.611,\n        \"num_unique_values\": 131,\n        \"samples\": [\n          0.061,\n          0.119,\n          0.066\n        ],\n        \"semantic_type\": \"\",\n        \"description\": \"\"\n      }\n    },\n    {\n      \"column\": \"free sulfur dioxide\",\n      \"properties\": {\n        \"dtype\": \"number\",\n        \"std\": 10.25048612343082,\n        \"min\": 1.0,\n        \"max\": 68.0,\n        \"num_unique_values\": 53,\n        \"samples\": [\n          30.0,\n          46.0,\n          40.0\n        ],\n        \"semantic_type\": \"\",\n        \"description\": \"\"\n      }\n    },\n    {\n      \"column\": \"total sulfur dioxide\",\n      \"properties\": {\n        \"dtype\": \"number\",\n        \"std\": 32.782130307343124,\n        \"min\": 6.0,\n        \"max\": 289.0,\n        \"num_unique_values\": 138,\n        \"samples\": [\n          70.0,\n          91.0,\n          71.0\n        ],\n        \"semantic_type\": \"\",\n        \"description\": \"\"\n      }\n    },\n    {\n      \"column\": \"density\",\n      \"properties\": {\n        \"dtype\": \"number\",\n        \"std\": 0.0019250671302545707,\n        \"min\": 0.99007,\n        \"max\": 1.00369,\n        \"num_unique_values\": 388,\n        \"samples\": [\n          0.99434,\n          0.9927,\n          0.99528\n        ],\n        \"semantic_type\": \"\",\n        \"description\": \"\"\n      }\n    },\n    {\n      \"column\": \"pH\",\n      \"properties\": {\n        \"dtype\": \"number\",\n        \"std\": 0.15666405977275222,\n        \"min\": 2.74,\n        \"max\": 4.01,\n        \"num_unique_values\": 87,\n        \"samples\": [\n          2.92,\n          3.51,\n          3.44\n        ],\n        \"semantic_type\": \"\",\n        \"description\": \"\"\n      }\n    },\n    {\n      \"column\": \"sulphates\",\n      \"properties\": {\n        \"dtype\": \"number\",\n        \"std\": 0.1703987144670742,\n        \"min\": 0.33,\n        \"max\": 2.0,\n        \"num_unique_values\": 89,\n        \"samples\": [\n          0.72,\n          1.61,\n          1.12\n        ],\n        \"semantic_type\": \"\",\n        \"description\": \"\"\n      }\n    },\n    {\n      \"column\": \"alcohol\",\n      \"properties\": {\n        \"dtype\": \"number\",\n        \"std\": 1.0821956098764456,\n        \"min\": 8.4,\n        \"max\": 14.9,\n        \"num_unique_values\": 61,\n        \"samples\": [\n          9.4,\n          9.9,\n          12.7\n        ],\n        \"semantic_type\": \"\",\n        \"description\": \"\"\n      }\n    },\n    {\n      \"column\": \"quality\",\n      \"properties\": {\n        \"dtype\": \"number\",\n        \"std\": 0,\n        \"min\": 3,\n        \"max\": 8,\n        \"num_unique_values\": 6,\n        \"samples\": [\n          5,\n          6,\n          3\n        ],\n        \"semantic_type\": \"\",\n        \"description\": \"\"\n      }\n    },\n    {\n      \"column\": \"Id\",\n      \"properties\": {\n        \"dtype\": \"number\",\n        \"std\": 463,\n        \"min\": 0,\n        \"max\": 1597,\n        \"num_unique_values\": 1143,\n        \"samples\": [\n          222,\n          1514,\n          417\n        ],\n        \"semantic_type\": \"\",\n        \"description\": \"\"\n      }\n    }\n  ]\n}"
            }
          },
          "metadata": {},
          "execution_count": 30
        }
      ],
      "source": [
        "OUTPUT_CSV = \"WineQT.csv\"\n",
        "\n",
        "print(\"Found existing file:\", OUTPUT_CSV)\n",
        "\n",
        "df = pd.read_csv(OUTPUT_CSV)\n",
        "print(\"✅ Loaded:\", df.shape)\n",
        "df.head()\n"
      ]
    },
    {
      "cell_type": "markdown",
      "id": "48462d17",
      "metadata": {
        "id": "48462d17"
      },
      "source": [
        "\n",
        "### 📝 TODO\n",
        "- Skim the first few rows above. What looks like a good **target** (y) for prediction (e.g., `mpg`, `price`)?\n"
      ]
    },
    {
      "cell_type": "markdown",
      "id": "505d4e37",
      "metadata": {
        "id": "505d4e37"
      },
      "source": [
        "## 2) Quick Inspect & Simple Cleaning"
      ]
    },
    {
      "cell_type": "code",
      "execution_count": null,
      "id": "71e0e3f9",
      "metadata": {
        "colab": {
          "base_uri": "https://localhost:8080/"
        },
        "id": "71e0e3f9",
        "outputId": "caeffc65-5f1f-43c8-a77a-4e159fbf6cc4"
      },
      "outputs": [
        {
          "output_type": "stream",
          "name": "stdout",
          "text": [
            "Columns: ['fixed acidity', 'volatile acidity', 'citric acid', 'residual sugar', 'chlorides', 'free sulfur dioxide', 'total sulfur dioxide', 'density', 'pH', 'sulphates', 'alcohol', 'quality', 'Id']\n",
            "\n",
            "Data types:\n",
            " fixed acidity           float64\n",
            "volatile acidity        float64\n",
            "citric acid             float64\n",
            "residual sugar          float64\n",
            "chlorides               float64\n",
            "free sulfur dioxide     float64\n",
            "total sulfur dioxide    float64\n",
            "density                 float64\n",
            "pH                      float64\n",
            "sulphates               float64\n",
            "alcohol                 float64\n",
            "quality                   int64\n",
            "Id                        int64\n",
            "dtype: object\n",
            "\n",
            "Missing values per column:\n",
            " fixed acidity           0\n",
            "volatile acidity        0\n",
            "citric acid             0\n",
            "residual sugar          0\n",
            "chlorides               0\n",
            "free sulfur dioxide     0\n",
            "total sulfur dioxide    0\n",
            "density                 0\n",
            "pH                      0\n",
            "sulphates               0\n",
            "alcohol                 0\n",
            "quality                 0\n",
            "Id                      0\n",
            "dtype: int64\n",
            "\n",
            "Dropped duplicates: 0\n"
          ]
        }
      ],
      "source": [
        "print(\"Columns:\", list(df.columns))\n",
        "print(\"\\nData types:\\n\", df.dtypes)\n",
        "print(\"\\nMissing values per column:\\n\", df.isna().sum())\n",
        "\n",
        "# Simple cleaning: drop duplicates\n",
        "before = df.shape[0]\n",
        "df = df.drop_duplicates().reset_index(drop=True)\n",
        "print(\"\\nDropped duplicates:\", before - df.shape[0])\n",
        "\n",
        "# (Optional) strip/underscore column names\n",
        "df.columns = [c.strip().replace(\" \", \"_\") for c in df.columns]\n",
        "\n",
        "# # Fill missing values with the mean of the column\n",
        "# df.fillna(df.mean(), inplace=True)\n",
        "# print(\"\\nMissing values after filling:\\n\", df.isna().sum())"
      ]
    },
    {
      "cell_type": "code",
      "metadata": {
        "id": "822af35b"
      },
      "source": [
        "# from sklearn.experimental import enable_iterative_imputer\n",
        "# from sklearn.impute import IterativeImputer\n",
        "\n",
        "# # Create an IterativeImputer object\n",
        "# # You can customize the estimator and other parameters if needed\n",
        "# imputer = IterativeImputer(max_iter=10, random_state=0)\n",
        "\n",
        "# # Apply the imputer to the DataFrame\n",
        "# # IterativeImputer returns a numpy array, so convert it back to a pandas DataFrame\n",
        "# df_filled = pd.DataFrame(imputer.fit_transform(df), columns=df.columns)\n",
        "\n",
        "# print(\"Missing values after IterativeImputer:\\n\", df_filled.isna().sum())\n",
        "\n",
        "# # Update the original DataFrame with the imputed values\n",
        "# df = df_filled"
      ],
      "id": "822af35b",
      "execution_count": null,
      "outputs": []
    },
    {
      "cell_type": "markdown",
      "id": "a18ecb52",
      "metadata": {
        "id": "a18ecb52"
      },
      "source": [
        "\n",
        "### 📝 TODO\n",
        "- If you see obvious bad rows (e.g., impossible negative values), write one **extra line** to filter them out.\n"
      ]
    },
    {
      "cell_type": "markdown",
      "id": "4f93a674",
      "metadata": {
        "id": "4f93a674"
      },
      "source": [
        "## 3) Choose Target and Features (Keep it Simple)"
      ]
    },
    {
      "cell_type": "code",
      "execution_count": null,
      "id": "80003962",
      "metadata": {
        "colab": {
          "base_uri": "https://localhost:8080/"
        },
        "id": "80003962",
        "outputId": "3eb9bcfa-2ea0-4be6-e828-c54e548878ad"
      },
      "outputs": [
        {
          "output_type": "stream",
          "name": "stdout",
          "text": [
            "Auto-selected TARGET = fixed_acidity\n",
            "Target: fixed_acidity\n",
            "Numeric features (first 6 shown): ['volatile_acidity', 'citric_acid', 'residual_sugar', 'chlorides', 'free_sulfur_dioxide', 'total_sulfur_dioxide']\n"
          ]
        }
      ],
      "source": [
        "# 👉 Set your target (change this if needed)\n",
        "TARGET = \"qt\"  # <-- change if your dataset uses a different target\n",
        "\n",
        "# If the target isn't present, try to auto-pick a numeric column\n",
        "if TARGET not in df.columns:\n",
        "    numeric_cols_all = df.select_dtypes(include=np.number).columns.tolist()\n",
        "    if numeric_cols_all:\n",
        "        TARGET = numeric_cols_all[0]\n",
        "        print(\"Auto-selected TARGET =\", TARGET)\n",
        "\n",
        "# We'll work **only with numeric predictors** for simplicity.\n",
        "numeric_cols = [c for c in df.select_dtypes(include=np.number).columns if c != TARGET]\n",
        "\n",
        "# Quick sanity\n",
        "print(\"Target:\", TARGET)\n",
        "print(\"Numeric features (first 6 shown):\", numeric_cols[:6])"
      ]
    },
    {
      "cell_type": "markdown",
      "id": "21dfa346",
      "metadata": {
        "id": "21dfa346"
      },
      "source": [
        "\n",
        "### 📝 TODO\n",
        "- If you prefer different features, create a **manual list**, e.g.  \n",
        "  `numeric_cols = ['horsepower','weight','displacement','acceleration']` (only if those exist).\n"
      ]
    },
    {
      "cell_type": "markdown",
      "id": "655c216e",
      "metadata": {
        "id": "655c216e"
      },
      "source": [
        "## 4) Univariate Plots (Matplotlib)"
      ]
    },
    {
      "cell_type": "code",
      "execution_count": null,
      "id": "aa0248ad",
      "metadata": {
        "colab": {
          "base_uri": "https://localhost:8080/",
          "height": 1000
        },
        "id": "aa0248ad",
        "outputId": "20eb94a4-3715-4168-a32e-c225c6785108"
      },
      "outputs": [
        {
          "output_type": "display_data",
          "data": {
            "text/plain": [
              "<Figure size 640x480 with 1 Axes>"
            ],
            "image/png": "[encoded data removed]"
          },
          "metadata": {}
        },
        {
          "output_type": "display_data",
          "data": {
            "text/plain": [
              "<Figure size 640x480 with 1 Axes>"
            ],
            "image/png": "[encoded data removed]"
          },
          "metadata": {}
        },
        {
          "output_type": "display_data",
          "data": {
            "text/plain": [
              "<Figure size 640x480 with 1 Axes>"
            ],
            "image/png": "[encoded data removed]"
          },
          "metadata": {}
        },
        {
          "output_type": "display_data",
          "data": {
            "text/plain": [
              "<Figure size 640x480 with 1 Axes>"
            ],
            "image/png": "[encoded data removed]"
          },
          "metadata": {}
        }
      ],
      "source": [
        "\n",
        "# Plot target histogram\n",
        "if TARGET in df.columns and pd.api.types.is_numeric_dtype(df[TARGET]):\n",
        "    plt.figure()\n",
        "    df[TARGET].plot(kind='hist', bins=30, title=f\"Histogram of {TARGET}\")\n",
        "    plt.xlabel(TARGET); plt.ylabel(\"Frequency\")\n",
        "    plt.show()\n",
        "\n",
        "# Plot up to 3 numeric features' histograms\n",
        "for col in numeric_cols[:3]:\n",
        "    plt.figure()\n",
        "    df[col].plot(kind='hist', bins=30, title=f\"Histogram of {col}\")\n",
        "    plt.xlabel(col); plt.ylabel(\"Frequency\")\n",
        "    plt.show()\n"
      ]
    },
    {
      "cell_type": "markdown",
      "id": "32de8ec9",
      "metadata": {
        "id": "32de8ec9"
      },
      "source": [
        "\n",
        "### 📝 TODO\n",
        "- Looking at the histograms, note any skewed variables or outliers.\n"
      ]
    },
    {
      "cell_type": "markdown",
      "id": "4615337b",
      "metadata": {
        "id": "4615337b"
      },
      "source": [
        "## 5) Single-Variable Linear Regression"
      ]
    },
    {
      "cell_type": "code",
      "execution_count": null,
      "id": "377a2d1b",
      "metadata": {
        "colab": {
          "base_uri": "https://localhost:8080/",
          "height": 541
        },
        "id": "377a2d1b",
        "outputId": "a9f5cec9-a83b-4484-9321-d65c000a03ed"
      },
      "outputs": [
        {
          "output_type": "stream",
          "name": "stdout",
          "text": [
            "Feature: volatile_acidity\n",
            "Coefficient (slope): -2.23285237494695\n",
            "Intercept: 9.44377997831565\n",
            "R^2 (test): 0.06564028893768192\n"
          ]
        },
        {
          "output_type": "display_data",
          "data": {
            "text/plain": [
              "<Figure size 640x480 with 1 Axes>"
            ],
            "image/png": "[encoded data removed]"
          },
          "metadata": {}
        }
      ],
      "source": [
        "\n",
        "# Pick one feature (auto-pick the first numeric feature)\n",
        "if len(numeric_cols) == 0:\n",
        "    raise ValueError(\"No numeric predictors found. Please adjust `numeric_cols`.\")\n",
        "\n",
        "FEATURE_X = numeric_cols[0]  # change to try others\n",
        "\n",
        "# Drop rows with missing target/feature\n",
        "data_1v = df[[FEATURE_X, TARGET]].dropna().copy()\n",
        "\n",
        "X = data_1v[[FEATURE_X]].values\n",
        "y = data_1v[TARGET].values\n",
        "\n",
        "# Train-test split\n",
        "X_train, X_test, y_train, y_test = train_test_split(X, y, test_size=0.2, random_state=42)\n",
        "\n",
        "# Fit linear regression\n",
        "lr = LinearRegression()\n",
        "lr.fit(X_train, y_train)\n",
        "\n",
        "# Predictions on test set\n",
        "y_pred = lr.predict(X_test)\n",
        "\n",
        "print(\"Feature:\", FEATURE_X)\n",
        "print(\"Coefficient (slope):\", lr.coef_[0])\n",
        "print(\"Intercept:\", lr.intercept_)\n",
        "print(\"R^2 (test):\", r2_score(y_test, y_pred))\n",
        "\n",
        "# Plot scatter + regression line (on test set)\n",
        "plt.figure()\n",
        "plt.scatter(X_test, y_test, label=\"Actual\")\n",
        "# create a line\n",
        "x_line = np.linspace(X.min(), X.max(), 200).reshape(-1,1)\n",
        "y_line = lr.predict(x_line)\n",
        "plt.plot(x_line, y_line, label=\"Fit\")\n",
        "plt.xlabel(FEATURE_X); plt.ylabel(TARGET); plt.title(\"Single-Variable Linear Regression\")\n",
        "plt.legend()\n",
        "plt.show()"
      ]
    },
    {
      "cell_type": "markdown",
      "id": "7c813aaf",
      "metadata": {
        "id": "7c813aaf"
      },
      "source": [
        "\n",
        "### 📝 TODO\n",
        "- Change `FEATURE_X` to a different column and re-run.\n",
        "- Does the line slope match your intuition about the relationship?\n"
      ]
    },
    {
      "cell_type": "markdown",
      "id": "dd8880fb",
      "metadata": {
        "id": "dd8880fb"
      },
      "source": [
        "## 6) Multi-Variable Linear Regression (Simple)"
      ]
    },
    {
      "cell_type": "code",
      "execution_count": null,
      "id": "fc4b5f2c",
      "metadata": {
        "colab": {
          "base_uri": "https://localhost:8080/"
        },
        "id": "fc4b5f2c",
        "outputId": "94716288-beec-449a-c7c4-6dc875610502"
      },
      "outputs": [
        {
          "output_type": "stream",
          "name": "stdout",
          "text": [
            "MAE:  0.477\n",
            "MSE:  0.380\n",
            "RMSE: 0.616\n",
            "R^2:  0.317\n",
            "\n",
            "Multi-variable Ridge Best CV R^2: 0.31360772010169763\n",
            "Multi-variable Lasso Best CV R^2: 0.3147697052937569\n"
          ]
        }
      ],
      "source": [
        "from sklearn.linear_model import Ridge, Lasso\n",
        "from sklearn.pipeline import Pipeline\n",
        "from sklearn.preprocessing import StandardScaler, PolynomialFeatures\n",
        "from sklearn.model_selection import GridSearchCV\n",
        "from sklearn.metrics import mean_absolute_error, mean_squared_error, r2_score\n",
        "import numpy as np\n",
        "import pandas as pd\n",
        "from sklearn.model_selection import train_test_split\n",
        "\n",
        "# Keep only numeric predictors + target; drop NA\n",
        "# Remove 'Id' column as it's likely an identifier and not a feature\n",
        "numeric_cols_mv = [c for c in df.select_dtypes(include=np.number).columns.tolist() if c != TARGET_COL and c != 'Id']\n",
        "data_mv = df[numeric_cols_mv + [TARGET_COL]].dropna().copy()\n",
        "\n",
        "X = data_mv[numeric_cols_mv].values\n",
        "y = data_mv[TARGET_COL].values\n",
        "\n",
        "X_train, X_test, y_train, y_test = train_test_split(X, y, test_size=0.2, random_state=42)\n",
        "\n",
        "lin = LinearRegression()\n",
        "lin.fit(X_train, y_train)\n",
        "\n",
        "y_pred = lin.predict(X_test)\n",
        "\n",
        "mae = mean_absolute_error(y_test, y_pred)\n",
        "mse = mean_squared_error(y_test, y_pred)\n",
        "rmse = np.sqrt(mse)  # Calculate RMSE manually\n",
        "r2 = r2_score(y_test, y_pred)\n",
        "\n",
        "print(f\"MAE:  {mae:.3f}\")\n",
        "print(f\"MSE:  {mse:.3f}\")\n",
        "print(f\"RMSE: {rmse:.3f}\")\n",
        "print(f\"R^2:  {r2:.3f}\")\n",
        "\n",
        "# Use all numeric features for multi-variable regularization\n",
        "X_all = df[numeric_cols_mv].values # Use numeric_cols_mv here as well\n",
        "y_all = df[TARGET_COL].values # Use TARGET_COL here as well\n",
        "\n",
        "\n",
        "# Ridge Regression Pipeline and GridSearchCV (Multi-variable)\n",
        "ridge_pipe_mv = Pipeline([\n",
        "    (\"scaler\", StandardScaler()),\n",
        "    (\"poly\", PolynomialFeatures(include_bias=False)),\n",
        "    (\"ridge\", Ridge())\n",
        "])\n",
        "\n",
        "ridge_param_grid_mv = {\n",
        "    \"poly__degree\": [1, 2], # Limit degree to avoid excessive complexity\n",
        "    \"ridge__alpha\": [0.01, 0.1, 1.0, 10.0, 100.0]\n",
        "}\n",
        "\n",
        "ridge_grid_mv = GridSearchCV(ridge_pipe_mv, ridge_param_grid_mv, cv=5, scoring=\"r2\", n_jobs=-1)\n",
        "ridge_grid_mv.fit(X_all, y_all)\n",
        "\n",
        "# Lasso Regression Pipeline and GridSearchCV (Multi-variable)\n",
        "lasso_pipe_mv = Pipeline([\n",
        "    (\"scaler\", StandardScaler()),\n",
        "    (\"poly\", PolynomialFeatures(include_bias=False)),\n",
        "    (\"lasso\", Lasso(max_iter=10000)) # Increase max_iter for convergence\n",
        "])\n",
        "\n",
        "lasso_param_grid_mv = {\n",
        "    \"poly__degree\": [1, 2], # Limit degree to avoid excessive complexity\n",
        "    \"lasso__alpha\": [0.001, 0.01, 0.1, 1.0, 10.0]\n",
        "}\n",
        "\n",
        "lasso_grid_mv = GridSearchCV(lasso_pipe_mv, lasso_param_grid_mv, cv=5, scoring=\"r2\", n_jobs=-1)\n",
        "lasso_grid_mv.fit(X_all, y_all)\n",
        "\n",
        "\n",
        "# Add the best CV R^2 scores from Ridge and Lasso\n",
        "print(\"\\nMulti-variable Ridge Best CV R^2:\", ridge_grid_mv.best_score_)\n",
        "print(\"Multi-variable Lasso Best CV R^2:\", lasso_grid_mv.best_score_)"
      ]
    },
    {
      "cell_type": "code",
      "metadata": {
        "colab": {
          "base_uri": "https://localhost:8080/"
        },
        "id": "e7c9b5ee",
        "outputId": "66ede0d5-cd62-4f6a-eaea-84ee0537a7fc"
      },
      "source": [
        "# Calculate R^2 on the training set for the multi-variable linear regression model\n",
        "y_train_pred = lin.predict(X_train)\n",
        "train_r2 = r2_score(y_train, y_train_pred)\n",
        "\n",
        "# Get the test R^2 from the previous output\n",
        "test_r2 = r2_score(y_test, y_pred)\n",
        "\n",
        "# Calculate the gap\n",
        "r2_gap = train_r2 - test_r2\n",
        "\n",
        "print(f\"R² (Test): {test_r2:.3f}\")\n",
        "print(f\"Train R²: {train_r2:.3f}\")\n",
        "print(f\"Gap (Train–Test): {r2_gap:.3f}\")"
      ],
      "id": "e7c9b5ee",
      "execution_count": null,
      "outputs": [
        {
          "output_type": "stream",
          "name": "stdout",
          "text": [
            "R² (Test): 0.317\n",
            "Train R²: 0.382\n",
            "Gap (Train–Test): 0.065\n"
          ]
        }
      ]
    },
    {
      "cell_type": "markdown",
      "id": "c2800867",
      "metadata": {
        "id": "c2800867"
      },
      "source": [
        "\n",
        "### 📝 TODO\n",
        "- Remove one weak feature from `numeric_cols` and see how metrics change.\n",
        "- Add a different feature and compare.\n"
      ]
    },
    {
      "cell_type": "markdown",
      "id": "944fe2a1",
      "metadata": {
        "id": "944fe2a1"
      },
      "source": [
        "## 7) Diagnostic Plots (Residuals)"
      ]
    },
    {
      "cell_type": "code",
      "execution_count": null,
      "id": "0bfe20c7",
      "metadata": {
        "colab": {
          "base_uri": "https://localhost:8080/",
          "height": 1000
        },
        "id": "0bfe20c7",
        "outputId": "26406491-dbdb-49f4-8be2-614ac86d857c"
      },
      "outputs": [
        {
          "output_type": "display_data",
          "data": {
            "text/plain": [
              "<Figure size 640x480 with 1 Axes>"
            ],
            "image/png": "[encoded data removed]"
          },
          "metadata": {}
        },
        {
          "output_type": "display_data",
          "data": {
            "text/plain": [
              "<Figure size 640x480 with 1 Axes>"
            ],
            "image/png": "[encoded data removed]"
          },
          "metadata": {}
        },
        {
          "output_type": "display_data",
          "data": {
            "text/plain": [
              "<Figure size 640x480 with 1 Axes>"
            ],
            "image/png": "[encoded data removed]"
          },
          "metadata": {}
        }
      ],
      "source": [
        "\n",
        "# Reuse y_test and y_pred from multi-variable model\n",
        "residuals = y_test - y_pred\n",
        "\n",
        "# Predicted vs Actual\n",
        "plt.figure()\n",
        "plt.scatter(y_test, y_pred)\n",
        "plt.xlabel(\"Actual\"); plt.ylabel(\"Predicted\")\n",
        "plt.title(\"Predicted vs Actual (Test)\")\n",
        "plt.show()\n",
        "\n",
        "# Residuals vs Predicted\n",
        "plt.figure()\n",
        "plt.scatter(y_pred, residuals)\n",
        "plt.axhline(0, linestyle='--')\n",
        "plt.xlabel(\"Predicted\"); plt.ylabel(\"Residuals\")\n",
        "plt.title(\"Residuals vs Predicted\")\n",
        "plt.show()\n",
        "\n",
        "# Histogram of residuals\n",
        "plt.figure()\n",
        "pd.Series(residuals).plot(kind='hist', bins=30, title=\"Histogram of Residuals\")\n",
        "plt.xlabel(\"Residual\"); plt.ylabel(\"Frequency\")\n",
        "plt.show()\n"
      ]
    },
    {
      "cell_type": "markdown",
      "id": "2d515f1e",
      "metadata": {
        "id": "2d515f1e"
      },
      "source": [
        "\n",
        "### 📝 TODO\n",
        "- Do residuals look roughly centered around 0 and evenly spread?\n",
        "- If not, which assumption might be violated?\n"
      ]
    },
    {
      "cell_type": "markdown",
      "id": "05fbe0a3",
      "metadata": {
        "id": "05fbe0a3"
      },
      "source": [
        "## 8) Polynomial Features + Grid Search for Best Degree"
      ]
    },
    {
      "cell_type": "markdown",
      "id": "a9418dd4",
      "metadata": {
        "id": "a9418dd4"
      },
      "source": [
        "\n",
        "Even though it's called \"polynomial regression\", it's still **linear regression** applied to **polynomially-expanded features**.\n",
        "We'll try degrees **1 to 5** on a **single predictor** and pick the degree with the best cross-validated **R²**.\n"
      ]
    },
    {
      "cell_type": "code",
      "execution_count": null,
      "id": "5d68dfb0",
      "metadata": {
        "colab": {
          "base_uri": "https://localhost:8080/"
        },
        "id": "5d68dfb0",
        "outputId": "8ca4f528-eda7-44eb-ac2c-faa7cc089c6e"
      },
      "outputs": [
        {
          "output_type": "stream",
          "name": "stdout",
          "text": [
            "Ridge Best Parameters: {'poly__degree': 1, 'ridge__alpha': 10.0}\n",
            "\n",
            "Lasso Best Parameters: {'lasso__alpha': 0.01, 'poly__degree': 1}\n",
            "\n",
            "Overall Best CV R^2: 0.35531878513255777\n",
            "\n",
            "Ridge Test R^2: 0.31964077596811236\n",
            "Lasso Test R^2: 0.3352705125166172\n"
          ]
        }
      ],
      "source": [
        "# Choose a single predictor again (same FEATURE_X as before by default)\n",
        "# FEATURE_X = FEATURE_X  # keep same, or set to something else like 'horsepower'\n",
        "\n",
        "# Use all numeric predictors + target; drop NA\n",
        "TARGET_COL = \"quality\" # Setting the target column explicitly\n",
        "\n",
        "# Remove 'Id' column as it's likely an identifier and not a feature\n",
        "numeric_cols_all = [c for c in df.select_dtypes(include=np.number).columns.tolist() if c != TARGET_COL and c != 'Id']\n",
        "\n",
        "\n",
        "poly_data = df[numeric_cols_all + [TARGET_COL]].dropna().copy()\n",
        "X = poly_data[numeric_cols_all].values\n",
        "y = poly_data[TARGET_COL].values\n",
        "\n",
        "# Split data for evaluation after finding best hyperparameters\n",
        "X_train, X_test, y_train, y_test = train_test_split(X, y, test_size=0.2, random_state=42)\n",
        "\n",
        "\n",
        "# Ridge Regression Pipeline and GridSearchCV\n",
        "ridge_pipe = Pipeline([\n",
        "    (\"scaler\", StandardScaler()),\n",
        "    (\"poly\", PolynomialFeatures(include_bias=False)),\n",
        "    (\"ridge\", Ridge())\n",
        "])\n",
        "\n",
        "ridge_param_grid = {\n",
        "    \"poly__degree\": [1, 2, 3],\n",
        "    \"ridge__alpha\": [0.01, 0.1, 1.0, 10.0, 100.0]\n",
        "}\n",
        "\n",
        "ridge_grid = GridSearchCV(ridge_pipe, ridge_param_grid, cv=5, scoring=\"r2\", n_jobs=-1)\n",
        "ridge_grid.fit(X_train, y_train) # Fit on training data for CV\n",
        "\n",
        "print(\"Ridge Best Parameters:\", ridge_grid.best_params_)\n",
        "\n",
        "\n",
        "# Lasso Regression Pipeline and GridSearchCV\n",
        "lasso_pipe = Pipeline([\n",
        "    (\"scaler\", StandardScaler()),\n",
        "    (\"poly\", PolynomialFeatures(include_bias=False)),\n",
        "    (\"lasso\", Lasso(max_iter=10000))\n",
        "])\n",
        "\n",
        "lasso_param_grid = {\n",
        "    \"poly__degree\": [1, 2, 3],\n",
        "    \"lasso__alpha\": [0.001, 0.01, 0.1, 1.0, 10.0]\n",
        "}\n",
        "\n",
        "lasso_grid = GridSearchCV(lasso_pipe, lasso_param_grid, cv=5, scoring=\"r2\", n_jobs=-1)\n",
        "lasso_grid.fit(X_train, y_train) # Fit on training data for CV\n",
        "\n",
        "print(\"\\nLasso Best Parameters:\", lasso_grid.best_params_)\n",
        "\n",
        "# Print the best CV R^2 score\n",
        "best_cv_r2 = max(ridge_grid.best_score_, lasso_grid.best_score_)\n",
        "print(\"\\nOverall Best CV R^2:\", best_cv_r2)\n",
        "\n",
        "# Evaluate the best Ridge model on the test set\n",
        "best_ridge_model = ridge_grid.best_estimator_\n",
        "y_pred_ridge = best_ridge_model.predict(X_test)\n",
        "test_r2_ridge = r2_score(y_test, y_pred_ridge)\n",
        "print(\"\\nRidge Test R^2:\", test_r2_ridge)\n",
        "\n",
        "# Evaluate the best Lasso model on the test set\n",
        "best_lasso_model = lasso_grid.best_estimator_\n",
        "y_pred_lasso = best_lasso_model.predict(X_test)\n",
        "test_r2_lasso = r2_score(y_test, y_pred_lasso)\n",
        "print(\"Lasso Test R^2:\", test_r2_lasso)\n",
        "\n",
        "\n",
        "# Plot the best curve from the model with the highest test R^2 (either Ridge or Lasso)\n",
        "best_model = best_ridge_model if test_r2_ridge > test_r2_lasso else best_lasso_model\n",
        "best_test_r2 = max(test_r2_ridge, test_r2_lasso)\n",
        "\n",
        "\n",
        "# This plot will be difficult to interpret with multiple features,\n",
        "# so we'll skip plotting a single curve on a scatter plot of all features.\n",
        "# We can instead plot the residuals vs predicted values, as done in section 7.\n",
        "\n",
        "# print(\"\\nPlotting residuals for the best model:\")\n",
        "# residuals = y_test - (best_model.predict(X_test))\n",
        "\n",
        "# plt.figure()\n",
        "# plt.scatter(best_model.predict(X_test), residuals, s=14)\n",
        "# plt.axhline(0, linestyle=\"--\")\n",
        "# plt.xlabel(\"Predicted\")\n",
        "# plt.ylabel(\"Residuals\")\n",
        "# plt.title(f\"Residuals vs Predicted (Best Model, Test Set, R^2: {best_test_r2:.3f})\")\n",
        "# plt.show()"
      ]
    },
    {
      "cell_type": "markdown",
      "id": "a21b23f2",
      "metadata": {
        "id": "a21b23f2"
      },
      "source": [
        "\n",
        "### 📝 TODO\n",
        "- Change the degree range (e.g., 1–8) and re-run. Does performance keep improving?\n",
        "- Try a different `FEATURE_X`.\n"
      ]
    },
    {
      "cell_type": "markdown",
      "id": "82a5cd04",
      "metadata": {
        "id": "82a5cd04"
      },
      "source": [
        "## 9) Interpreting Coefficients (Multi-Variable Model)"
      ]
    },
    {
      "cell_type": "code",
      "execution_count": null,
      "id": "9d60c8aa",
      "metadata": {
        "colab": {
          "base_uri": "https://localhost:8080/",
          "height": 363
        },
        "id": "9d60c8aa",
        "outputId": "2af7ea01-63fb-4bcc-a003-0069c6dd4fb5"
      },
      "outputs": [
        {
          "output_type": "execute_result",
          "data": {
            "text/plain": [
              "                 feature  coefficient\n",
              "7                density   -30.653256\n",
              "4              chlorides    -1.806530\n",
              "1       volatile_acidity    -1.336257\n",
              "9              sulphates     0.973040\n",
              "2            citric_acid    -0.339101\n",
              "10               alcohol     0.266586\n",
              "8                     pH    -0.249236\n",
              "0          fixed_acidity     0.051343\n",
              "3         residual_sugar     0.004121\n",
              "6   total_sulfur_dioxide    -0.002283"
            ],
            "text/html": [
              "\n",
              "  <div id=\"df-a22e8c2c-b7d5-4437-b818-cbfd0e5ed390\" class=\"colab-df-container\">\n",
              "    <div>\n",
              "<style scoped>\n",
              "    .dataframe tbody tr th:only-of-type {\n",
              "        vertical-align: middle;\n",
              "    }\n",
              "\n",
              "    .dataframe tbody tr th {\n",
              "        vertical-align: top;\n",
              "    }\n",
              "\n",
              "    .dataframe thead th {\n",
              "        text-align: right;\n",
              "    }\n",
              "</style>\n",
              "<table border=\"1\" class=\"dataframe\">\n",
              "  <thead>\n",
              "    <tr style=\"text-align: right;\">\n",
              "      <th></th>\n",
              "      <th>feature</th>\n",
              "      <th>coefficient</th>\n",
              "    </tr>\n",
              "  </thead>\n",
              "  <tbody>\n",
              "    <tr>\n",
              "      <th>7</th>\n",
              "      <td>density</td>\n",
              "      <td>-30.653256</td>\n",
              "    </tr>\n",
              "    <tr>\n",
              "      <th>4</th>\n",
              "      <td>chlorides</td>\n",
              "      <td>-1.806530</td>\n",
              "    </tr>\n",
              "    <tr>\n",
              "      <th>1</th>\n",
              "      <td>volatile_acidity</td>\n",
              "      <td>-1.336257</td>\n",
              "    </tr>\n",
              "    <tr>\n",
              "      <th>9</th>\n",
              "      <td>sulphates</td>\n",
              "      <td>0.973040</td>\n",
              "    </tr>\n",
              "    <tr>\n",
              "      <th>2</th>\n",
              "      <td>citric_acid</td>\n",
              "      <td>-0.339101</td>\n",
              "    </tr>\n",
              "    <tr>\n",
              "      <th>10</th>\n",
              "      <td>alcohol</td>\n",
              "      <td>0.266586</td>\n",
              "    </tr>\n",
              "    <tr>\n",
              "      <th>8</th>\n",
              "      <td>pH</td>\n",
              "      <td>-0.249236</td>\n",
              "    </tr>\n",
              "    <tr>\n",
              "      <th>0</th>\n",
              "      <td>fixed_acidity</td>\n",
              "      <td>0.051343</td>\n",
              "    </tr>\n",
              "    <tr>\n",
              "      <th>3</th>\n",
              "      <td>residual_sugar</td>\n",
              "      <td>0.004121</td>\n",
              "    </tr>\n",
              "    <tr>\n",
              "      <th>6</th>\n",
              "      <td>total_sulfur_dioxide</td>\n",
              "      <td>-0.002283</td>\n",
              "    </tr>\n",
              "  </tbody>\n",
              "</table>\n",
              "</div>\n",
              "    <div class=\"colab-df-buttons\">\n",
              "\n",
              "  <div class=\"colab-df-container\">\n",
              "    <button class=\"colab-df-convert\" onclick=\"convertToInteractive('df-a22e8c2c-b7d5-4437-b818-cbfd0e5ed390')\"\n",
              "            title=\"Convert this dataframe to an interactive table.\"\n",
              "            style=\"display:none;\">\n",
              "\n",
              "  <svg xmlns=\"http://www.w3.org/2000/svg\" height=\"24px\" viewBox=\"0 -960 960 960\">\n",
              "    <path d=\"M120-120v-720h720v720H120Zm60-500h600v-160H180v160Zm220 220h160v-160H400v160Zm0 220h160v-160H400v160ZM180-400h160v-160H180v160Zm440 0h160v-160H620v160ZM180-180h160v-160H180v160Zm440 0h160v-160H620v160Z\"/>\n",
              "  </svg>\n",
              "    </button>\n",
              "\n",
              "  <style>\n",
              "    .colab-df-container {\n",
              "      display:flex;\n",
              "      gap: 12px;\n",
              "    }\n",
              "\n",
              "    .colab-df-convert {\n",
              "      background-color: #E8F0FE;\n",
              "      border: none;\n",
              "      border-radius: 50%;\n",
              "      cursor: pointer;\n",
              "      display: none;\n",
              "      fill: #1967D2;\n",
              "      height: 32px;\n",
              "      padding: 0 0 0 0;\n",
              "      width: 32px;\n",
              "    }\n",
              "\n",
              "    .colab-df-convert:hover {\n",
              "      background-color: #E2EBFA;\n",
              "      box-shadow: 0px 1px 2px rgba(60, 64, 67, 0.3), 0px 1px 3px 1px rgba(60, 64, 67, 0.15);\n",
              "      fill: #174EA6;\n",
              "    }\n",
              "\n",
              "    .colab-df-buttons div {\n",
              "      margin-bottom: 4px;\n",
              "    }\n",
              "\n",
              "    [theme=dark] .colab-df-convert {\n",
              "      background-color: #3B4455;\n",
              "      fill: #D2E3FC;\n",
              "    }\n",
              "\n",
              "    [theme=dark] .colab-df-convert:hover {\n",
              "      background-color: #434B5C;\n",
              "      box-shadow: 0px 1px 3px 1px rgba(0, 0, 0, 0.15);\n",
              "      filter: drop-shadow(0px 1px 2px rgba(0, 0, 0, 0.3));\n",
              "      fill: #FFFFFF;\n",
              "    }\n",
              "  </style>\n",
              "\n",
              "    <script>\n",
              "      const buttonEl =\n",
              "        document.querySelector('#df-a22e8c2c-b7d5-4437-b818-cbfd0e5ed390 button.colab-df-convert');\n",
              "      buttonEl.style.display =\n",
              "        google.colab.kernel.accessAllowed ? 'block' : 'none';\n",
              "\n",
              "      async function convertToInteractive(key) {\n",
              "        const element = document.querySelector('#df-a22e8c2c-b7d5-4437-b818-cbfd0e5ed390');\n",
              "        const dataTable =\n",
              "          await google.colab.kernel.invokeFunction('convertToInteractive',\n",
              "                                                    [key], {});\n",
              "        if (!dataTable) return;\n",
              "\n",
              "        const docLinkHtml = 'Like what you see? Visit the ' +\n",
              "          '<a target=\"_blank\" href=https://colab.research.google.com/notebooks/data_table.ipynb>data table notebook</a>'\n",
              "          + ' to learn more about interactive tables.';\n",
              "        element.innerHTML = '';\n",
              "        dataTable['output_type'] = 'display_data';\n",
              "        await google.colab.output.renderOutput(dataTable, element);\n",
              "        const docLink = document.createElement('div');\n",
              "        docLink.innerHTML = docLinkHtml;\n",
              "        element.appendChild(docLink);\n",
              "      }\n",
              "    </script>\n",
              "  </div>\n",
              "\n",
              "\n",
              "    <div id=\"df-a4a40b40-d674-46c1-bb92-f1e7125974a5\">\n",
              "      <button class=\"colab-df-quickchart\" onclick=\"quickchart('df-a4a40b40-d674-46c1-bb92-f1e7125974a5')\"\n",
              "                title=\"Suggest charts\"\n",
              "                style=\"display:none;\">\n",
              "\n",
              "<svg xmlns=\"http://www.w3.org/2000/svg\" height=\"24px\"viewBox=\"0 0 24 24\"\n",
              "     width=\"24px\">\n",
              "    <g>\n",
              "        <path d=\"M19 3H5c-1.1 0-2 .9-2 2v14c0 1.1.9 2 2 2h14c1.1 0 2-.9 2-2V5c0-1.1-.9-2-2-2zM9 17H7v-7h2v7zm4 0h-2V7h2v10zm4 0h-2v-4h2v4z\"/>\n",
              "    </g>\n",
              "</svg>\n",
              "      </button>\n",
              "\n",
              "<style>\n",
              "  .colab-df-quickchart {\n",
              "      --bg-color: #E8F0FE;\n",
              "      --fill-color: #1967D2;\n",
              "      --hover-bg-color: #E2EBFA;\n",
              "      --hover-fill-color: #174EA6;\n",
              "      --disabled-fill-color: #AAA;\n",
              "      --disabled-bg-color: #DDD;\n",
              "  }\n",
              "\n",
              "  [theme=dark] .colab-df-quickchart {\n",
              "      --bg-color: #3B4455;\n",
              "      --fill-color: #D2E3FC;\n",
              "      --hover-bg-color: #434B5C;\n",
              "      --hover-fill-color: #FFFFFF;\n",
              "      --disabled-bg-color: #3B4455;\n",
              "      --disabled-fill-color: #666;\n",
              "  }\n",
              "\n",
              "  .colab-df-quickchart {\n",
              "    background-color: var(--bg-color);\n",
              "    border: none;\n",
              "    border-radius: 50%;\n",
              "    cursor: pointer;\n",
              "    display: none;\n",
              "    fill: var(--fill-color);\n",
              "    height: 32px;\n",
              "    padding: 0;\n",
              "    width: 32px;\n",
              "  }\n",
              "\n",
              "  .colab-df-quickchart:hover {\n",
              "    background-color: var(--hover-bg-color);\n",
              "    box-shadow: 0 1px 2px rgba(60, 64, 67, 0.3), 0 1px 3px 1px rgba(60, 64, 67, 0.15);\n",
              "    fill: var(--button-hover-fill-color);\n",
              "  }\n",
              "\n",
              "  .colab-df-quickchart-complete:disabled,\n",
              "  .colab-df-quickchart-complete:disabled:hover {\n",
              "    background-color: var(--disabled-bg-color);\n",
              "    fill: var(--disabled-fill-color);\n",
              "    box-shadow: none;\n",
              "  }\n",
              "\n",
              "  .colab-df-spinner {\n",
              "    border: 2px solid var(--fill-color);\n",
              "    border-color: transparent;\n",
              "    border-bottom-color: var(--fill-color);\n",
              "    animation:\n",
              "      spin 1s steps(1) infinite;\n",
              "  }\n",
              "\n",
              "  @keyframes spin {\n",
              "    0% {\n",
              "      border-color: transparent;\n",
              "      border-bottom-color: var(--fill-color);\n",
              "      border-left-color: var(--fill-color);\n",
              "    }\n",
              "    20% {\n",
              "      border-color: transparent;\n",
              "      border-left-color: var(--fill-color);\n",
              "      border-top-color: var(--fill-color);\n",
              "    }\n",
              "    30% {\n",
              "      border-color: transparent;\n",
              "      border-left-color: var(--fill-color);\n",
              "      border-top-color: var(--fill-color);\n",
              "      border-right-color: var(--fill-color);\n",
              "    }\n",
              "    40% {\n",
              "      border-color: transparent;\n",
              "      border-right-color: var(--fill-color);\n",
              "      border-top-color: var(--fill-color);\n",
              "    }\n",
              "    60% {\n",
              "      border-color: transparent;\n",
              "      border-right-color: var(--fill-color);\n",
              "    }\n",
              "    80% {\n",
              "      border-color: transparent;\n",
              "      border-right-color: var(--fill-color);\n",
              "      border-bottom-color: var(--fill-color);\n",
              "    }\n",
              "    90% {\n",
              "      border-color: transparent;\n",
              "      border-bottom-color: var(--fill-color);\n",
              "    }\n",
              "  }\n",
              "</style>\n",
              "\n",
              "      <script>\n",
              "        async function quickchart(key) {\n",
              "          const quickchartButtonEl =\n",
              "            document.querySelector('#' + key + ' button');\n",
              "          quickchartButtonEl.disabled = true;  // To prevent multiple clicks.\n",
              "          quickchartButtonEl.classList.add('colab-df-spinner');\n",
              "          try {\n",
              "            const charts = await google.colab.kernel.invokeFunction(\n",
              "                'suggestCharts', [key], {});\n",
              "          } catch (error) {\n",
              "            console.error('Error during call to suggestCharts:', error);\n",
              "          }\n",
              "          quickchartButtonEl.classList.remove('colab-df-spinner');\n",
              "          quickchartButtonEl.classList.add('colab-df-quickchart-complete');\n",
              "        }\n",
              "        (() => {\n",
              "          let quickchartButtonEl =\n",
              "            document.querySelector('#df-a4a40b40-d674-46c1-bb92-f1e7125974a5 button');\n",
              "          quickchartButtonEl.style.display =\n",
              "            google.colab.kernel.accessAllowed ? 'block' : 'none';\n",
              "        })();\n",
              "      </script>\n",
              "    </div>\n",
              "\n",
              "    </div>\n",
              "  </div>\n"
            ],
            "application/vnd.google.colaboratory.intrinsic+json": {
              "type": "dataframe",
              "variable_name": "coef_df",
              "summary": "{\n  \"name\": \"coef_df\",\n  \"rows\": 11,\n  \"fields\": [\n    {\n      \"column\": \"feature\",\n      \"properties\": {\n        \"dtype\": \"string\",\n        \"num_unique_values\": 11,\n        \"samples\": [\n          \"alcohol\",\n          \"density\",\n          \"total_sulfur_dioxide\"\n        ],\n        \"semantic_type\": \"\",\n        \"description\": \"\"\n      }\n    },\n    {\n      \"column\": \"coefficient\",\n      \"properties\": {\n        \"dtype\": \"number\",\n        \"std\": 9.199619627041704,\n        \"min\": -30.653256238729153,\n        \"max\": 0.9730400971561969,\n        \"num_unique_values\": 11,\n        \"samples\": [\n          0.2665860677219758,\n          -30.653256238729153,\n          -0.002283058180384767\n        ],\n        \"semantic_type\": \"\",\n        \"description\": \"\"\n      }\n    }\n  ]\n}"
            }
          },
          "metadata": {},
          "execution_count": 41
        }
      ],
      "source": [
        "# Show top coefficients by magnitude (multi-variable linear model)\n",
        "coef = lin.coef_\n",
        "coef_df = pd.DataFrame({\"feature\": numeric_cols_mv, \"coefficient\": coef}) # Use numeric_cols_mv here\n",
        "coef_df[\"abs_coef\"] = coef_df[\"coefficient\"].abs()\n",
        "coef_df.sort_values(\"abs_coef\", ascending=False, inplace=True)\n",
        "coef_df.drop(columns=[\"abs_coef\"], inplace=True)\n",
        "coef_df.head(10)"
      ]
    },
    {
      "cell_type": "markdown",
      "id": "5069016a",
      "metadata": {
        "id": "5069016a"
      },
      "source": [
        "\n",
        "### 📝 TODO\n",
        "- Which features have the largest (absolute) coefficients?\n",
        "- Do the signs (+/-) match your intuition?\n"
      ]
    },
    {
      "cell_type": "markdown",
      "id": "6a4273bb",
      "metadata": {
        "id": "6a4273bb"
      },
      "source": [
        "\n",
        "## 10) Linear Regression — Quick Assumptions Checklist\n",
        "- **Linearity**: Relationship between predictors and target is roughly linear.\n",
        "- **Independence**: Errors are independent.\n",
        "- **Homoscedasticity**: Residuals have constant variance.\n",
        "- **Normality (for inference)**: Residuals are roughly normal.\n",
        "- **No perfect multicollinearity**: Avoid duplicate/linearly dependent features.\n"
      ]
    },
    {
      "cell_type": "markdown",
      "id": "414d56ff",
      "metadata": {
        "id": "414d56ff"
      },
      "source": [
        "\n",
        "## 11) Assumption Checks — Code You Can Run\n",
        "We'll check the classic linear regression assumptions using simple, readable code:\n",
        "- **Linearity & Homoscedasticity:** residuals vs predicted plot\n",
        "- **Normality of residuals:** Q–Q plot and Shapiro–Wilk test\n",
        "- **Independence of errors:** Durbin–Watson statistic\n",
        "- **Multicollinearity:** Variance Inflation Factor (VIF)\n"
      ]
    },
    {
      "cell_type": "code",
      "execution_count": null,
      "id": "6d819a91",
      "metadata": {
        "id": "6d819a91"
      },
      "outputs": [],
      "source": [
        "\n",
        "#@title Install test libs (statsmodels) if needed\n",
        "import sys, subprocess\n",
        "def pip_install(pkg):\n",
        "    subprocess.run([sys.executable, \"-m\", \"pip\", \"install\", \"-q\", pkg], check=False)\n",
        "\n",
        "try:\n",
        "    import statsmodels\n",
        "except:\n",
        "    pip_install(\"statsmodels>=0.14\")\n",
        "    import statsmodels\n",
        "\n",
        "from scipy import stats\n",
        "import numpy as np\n",
        "import pandas as pd\n",
        "import matplotlib.pyplot as plt\n",
        "from statsmodels.stats.stattools import durbin_watson\n",
        "from statsmodels.stats.diagnostic import het_breuschpagan\n",
        "import statsmodels.api as sm\n",
        "from statsmodels.stats.outliers_influence import variance_inflation_factor\n",
        "\n",
        "# NOTE: This cell assumes you've already run the multi-variable model section\n",
        "# so that y_test, y_pred, X_train, X_test, numeric_cols, TARGET are defined.\n",
        "# If not, re-run sections 6 and 7.\n"
      ]
    },
    {
      "cell_type": "code",
      "execution_count": null,
      "id": "0f55aae1",
      "metadata": {
        "colab": {
          "base_uri": "https://localhost:8080/",
          "height": 489
        },
        "id": "0f55aae1",
        "outputId": "b894d22d-b4a9-4dd4-e84e-25840d49ce0d"
      },
      "outputs": [
        {
          "output_type": "display_data",
          "data": {
            "text/plain": [
              "<Figure size 640x480 with 1 Axes>"
            ],
            "image/png": "[encoded data removed]"
          },
          "metadata": {}
        },
        {
          "output_type": "stream",
          "name": "stdout",
          "text": [
            "🧐 Look for: no obvious curve/pattern; spread roughly constant across x-axis.\n"
          ]
        }
      ],
      "source": [
        "\n",
        "# 11.1 Linearity & Homoscedasticity (visual)\n",
        "# Residuals vs Predicted should look like a random cloud around 0 (no pattern / fanning)\n",
        "\n",
        "residuals = y_test - y_pred\n",
        "\n",
        "plt.figure()\n",
        "plt.scatter(y_pred, residuals, s=14)\n",
        "plt.axhline(0, linestyle=\"--\")\n",
        "plt.xlabel(\"Predicted\")\n",
        "plt.ylabel(\"Residuals\")\n",
        "plt.title(\"Residuals vs Predicted\")\n",
        "plt.show()\n",
        "\n",
        "print(\"🧐 Look for: no obvious curve/pattern; spread roughly constant across x-axis.\")\n"
      ]
    },
    {
      "cell_type": "code",
      "execution_count": null,
      "id": "59db51f7",
      "metadata": {
        "colab": {
          "base_uri": "https://localhost:8080/",
          "height": 507
        },
        "id": "59db51f7",
        "outputId": "786b23e9-9d8f-40f4-abaa-bed1d371875b"
      },
      "outputs": [
        {
          "output_type": "display_data",
          "data": {
            "text/plain": [
              "<Figure size 640x480 with 1 Axes>"
            ],
            "image/png": "[encoded data removed]"
          },
          "metadata": {}
        },
        {
          "output_type": "stream",
          "name": "stdout",
          "text": [
            "Shapiro–Wilk: statistic=0.980, p-value=0.00239\n",
            "Rule of thumb: p-value > 0.05 suggests residuals are close to normal (for inference).\n"
          ]
        }
      ],
      "source": [
        "\n",
        "# 11.2 Normality of residuals: Q–Q plot + Shapiro–Wilk test\n",
        "plt.figure()\n",
        "stats.probplot(residuals, dist=\"norm\", plot=plt)\n",
        "plt.title(\"Q–Q Plot of Residuals\")\n",
        "plt.show()\n",
        "\n",
        "sh_stat, sh_p = stats.shapiro(residuals)\n",
        "print(f\"Shapiro–Wilk: statistic={sh_stat:.3f}, p-value={sh_p:.3g}\")\n",
        "print(\"Rule of thumb: p-value > 0.05 suggests residuals are close to normal (for inference).\")\n"
      ]
    },
    {
      "cell_type": "code",
      "execution_count": null,
      "id": "ff584073",
      "metadata": {
        "colab": {
          "base_uri": "https://localhost:8080/"
        },
        "id": "ff584073",
        "outputId": "8307f8a5-4ccb-48cf-e69d-08767f6b24c2"
      },
      "outputs": [
        {
          "output_type": "stream",
          "name": "stdout",
          "text": [
            "Durbin–Watson statistic = 2.137\n",
            "Guideline: ~2 means uncorrelated; much below 2 ⇒ positive autocorrelation; much above 2 ⇒ negative autocorrelation.\n"
          ]
        }
      ],
      "source": [
        "\n",
        "# 11.3 Independence of errors: Durbin–Watson (≈2 is good; <1 or >3 indicates strong autocorrelation)\n",
        "dw = durbin_watson(residuals)\n",
        "print(f\"Durbin–Watson statistic = {dw:.3f}\")\n",
        "print(\"Guideline: ~2 means uncorrelated; much below 2 ⇒ positive autocorrelation; much above 2 ⇒ negative autocorrelation.\")\n"
      ]
    },
    {
      "cell_type": "code",
      "execution_count": null,
      "id": "06e46ecc",
      "metadata": {
        "colab": {
          "base_uri": "https://localhost:8080/"
        },
        "id": "06e46ecc",
        "outputId": "2c72968a-f752-4e91-e2d0-1f26ba61e0e7"
      },
      "outputs": [
        {
          "output_type": "stream",
          "name": "stdout",
          "text": [
            "Breusch–Pagan: stat=42.961, p-value=1.1e-05\n",
            "Rule of thumb: p-value > 0.05 ⇒ no strong evidence of heteroscedasticity.\n"
          ]
        }
      ],
      "source": [
        "# 11.4 Homoscedasticity formal test: Breusch–Pagan\n",
        "# Use original predictors (X_test). Add constant for the test design matrix.\n",
        "\n",
        "X_bp = sm.add_constant(pd.DataFrame(X_test, columns=numeric_cols_mv)) # Use numeric_cols_mv here\n",
        "bp_stat, bp_p, _, _ = het_breuschpagan(residuals, X_bp)\n",
        "print(f\"Breusch–Pagan: stat={bp_stat:.3f}, p-value={bp_p:.3g}\")\n",
        "print(\"Rule of thumb: p-value > 0.05 ⇒ no strong evidence of heteroscedasticity.\")"
      ]
    },
    {
      "cell_type": "code",
      "execution_count": null,
      "id": "f0ef9de2",
      "metadata": {
        "colab": {
          "base_uri": "https://localhost:8080/",
          "height": 394
        },
        "id": "f0ef9de2",
        "outputId": "7125c5b8-0c9d-4067-8c2c-50754935a76d"
      },
      "outputs": [
        {
          "output_type": "execute_result",
          "data": {
            "text/plain": [
              "                 feature       VIF\n",
              "0          fixed_acidity  7.815892\n",
              "7                density  6.959241\n",
              "8                     pH  3.338158\n",
              "10               alcohol  3.313032\n",
              "2            citric_acid  3.225844\n",
              "6   total_sulfur_dioxide  2.108312\n",
              "5    free_sulfur_dioxide  1.925935\n",
              "1       volatile_acidity  1.817249\n",
              "3         residual_sugar  1.690831\n",
              "4              chlorides  1.590685\n",
              "9              sulphates  1.506231"
            ],
            "text/html": [
              "\n",
              "  <div id=\"df-e438acbc-f0bc-4ae0-865c-f680376af6bd\" class=\"colab-df-container\">\n",
              "    <div>\n",
              "<style scoped>\n",
              "    .dataframe tbody tr th:only-of-type {\n",
              "        vertical-align: middle;\n",
              "    }\n",
              "\n",
              "    .dataframe tbody tr th {\n",
              "        vertical-align: top;\n",
              "    }\n",
              "\n",
              "    .dataframe thead th {\n",
              "        text-align: right;\n",
              "    }\n",
              "</style>\n",
              "<table border=\"1\" class=\"dataframe\">\n",
              "  <thead>\n",
              "    <tr style=\"text-align: right;\">\n",
              "      <th></th>\n",
              "      <th>feature</th>\n",
              "      <th>VIF</th>\n",
              "    </tr>\n",
              "  </thead>\n",
              "  <tbody>\n",
              "    <tr>\n",
              "      <th>0</th>\n",
              "      <td>fixed_acidity</td>\n",
              "      <td>7.815892</td>\n",
              "    </tr>\n",
              "    <tr>\n",
              "      <th>7</th>\n",
              "      <td>density</td>\n",
              "      <td>6.959241</td>\n",
              "    </tr>\n",
              "    <tr>\n",
              "      <th>8</th>\n",
              "      <td>pH</td>\n",
              "      <td>3.338158</td>\n",
              "    </tr>\n",
              "    <tr>\n",
              "      <th>10</th>\n",
              "      <td>alcohol</td>\n",
              "      <td>3.313032</td>\n",
              "    </tr>\n",
              "    <tr>\n",
              "      <th>2</th>\n",
              "      <td>citric_acid</td>\n",
              "      <td>3.225844</td>\n",
              "    </tr>\n",
              "    <tr>\n",
              "      <th>6</th>\n",
              "      <td>total_sulfur_dioxide</td>\n",
              "      <td>2.108312</td>\n",
              "    </tr>\n",
              "    <tr>\n",
              "      <th>5</th>\n",
              "      <td>free_sulfur_dioxide</td>\n",
              "      <td>1.925935</td>\n",
              "    </tr>\n",
              "    <tr>\n",
              "      <th>1</th>\n",
              "      <td>volatile_acidity</td>\n",
              "      <td>1.817249</td>\n",
              "    </tr>\n",
              "    <tr>\n",
              "      <th>3</th>\n",
              "      <td>residual_sugar</td>\n",
              "      <td>1.690831</td>\n",
              "    </tr>\n",
              "    <tr>\n",
              "      <th>4</th>\n",
              "      <td>chlorides</td>\n",
              "      <td>1.590685</td>\n",
              "    </tr>\n",
              "    <tr>\n",
              "      <th>9</th>\n",
              "      <td>sulphates</td>\n",
              "      <td>1.506231</td>\n",
              "    </tr>\n",
              "  </tbody>\n",
              "</table>\n",
              "</div>\n",
              "    <div class=\"colab-df-buttons\">\n",
              "\n",
              "  <div class=\"colab-df-container\">\n",
              "    <button class=\"colab-df-convert\" onclick=\"convertToInteractive('df-e438acbc-f0bc-4ae0-865c-f680376af6bd')\"\n",
              "            title=\"Convert this dataframe to an interactive table.\"\n",
              "            style=\"display:none;\">\n",
              "\n",
              "  <svg xmlns=\"http://www.w3.org/2000/svg\" height=\"24px\" viewBox=\"0 -960 960 960\">\n",
              "    <path d=\"M120-120v-720h720v720H120Zm60-500h600v-160H180v160Zm220 220h160v-160H400v160Zm0 220h160v-160H400v160ZM180-400h160v-160H180v160Zm440 0h160v-160H620v160ZM180-180h160v-160H180v160Zm440 0h160v-160H620v160Z\"/>\n",
              "  </svg>\n",
              "    </button>\n",
              "\n",
              "  <style>\n",
              "    .colab-df-container {\n",
              "      display:flex;\n",
              "      gap: 12px;\n",
              "    }\n",
              "\n",
              "    .colab-df-convert {\n",
              "      background-color: #E8F0FE;\n",
              "      border: none;\n",
              "      border-radius: 50%;\n",
              "      cursor: pointer;\n",
              "      display: none;\n",
              "      fill: #1967D2;\n",
              "      height: 32px;\n",
              "      padding: 0 0 0 0;\n",
              "      width: 32px;\n",
              "    }\n",
              "\n",
              "    .colab-df-convert:hover {\n",
              "      background-color: #E2EBFA;\n",
              "      box-shadow: 0px 1px 2px rgba(60, 64, 67, 0.3), 0px 1px 3px 1px rgba(60, 64, 67, 0.15);\n",
              "      fill: #174EA6;\n",
              "    }\n",
              "\n",
              "    .colab-df-buttons div {\n",
              "      margin-bottom: 4px;\n",
              "    }\n",
              "\n",
              "    [theme=dark] .colab-df-convert {\n",
              "      background-color: #3B4455;\n",
              "      fill: #D2E3FC;\n",
              "    }\n",
              "\n",
              "    [theme=dark] .colab-df-convert:hover {\n",
              "      background-color: #434B5C;\n",
              "      box-shadow: 0px 1px 3px 1px rgba(0, 0, 0, 0.15);\n",
              "      filter: drop-shadow(0px 1px 2px rgba(0, 0, 0, 0.3));\n",
              "      fill: #FFFFFF;\n",
              "    }\n",
              "  </style>\n",
              "\n",
              "    <script>\n",
              "      const buttonEl =\n",
              "        document.querySelector('#df-e438acbc-f0bc-4ae0-865c-f680376af6bd button.colab-df-convert');\n",
              "      buttonEl.style.display =\n",
              "        google.colab.kernel.accessAllowed ? 'block' : 'none';\n",
              "\n",
              "      async function convertToInteractive(key) {\n",
              "        const element = document.querySelector('#df-e438acbc-f0bc-4ae0-865c-f680376af6bd');\n",
              "        const dataTable =\n",
              "          await google.colab.kernel.invokeFunction('convertToInteractive',\n",
              "                                                    [key], {});\n",
              "        if (!dataTable) return;\n",
              "\n",
              "        const docLinkHtml = 'Like what you see? Visit the ' +\n",
              "          '<a target=\"_blank\" href=https://colab.research.google.com/notebooks/data_table.ipynb>data table notebook</a>'\n",
              "          + ' to learn more about interactive tables.';\n",
              "        element.innerHTML = '';\n",
              "        dataTable['output_type'] = 'display_data';\n",
              "        await google.colab.output.renderOutput(dataTable, element);\n",
              "        const docLink = document.createElement('div');\n",
              "        docLink.innerHTML = docLinkHtml;\n",
              "        element.appendChild(docLink);\n",
              "      }\n",
              "    </script>\n",
              "  </div>\n",
              "\n",
              "\n",
              "    <div id=\"df-72a41d2a-2a16-4f90-8c84-13e4881a7387\">\n",
              "      <button class=\"colab-df-quickchart\" onclick=\"quickchart('df-72a41d2a-2a16-4f90-8c84-13e4881a7387')\"\n",
              "                title=\"Suggest charts\"\n",
              "                style=\"display:none;\">\n",
              "\n",
              "<svg xmlns=\"http://www.w3.org/2000/svg\" height=\"24px\"viewBox=\"0 0 24 24\"\n",
              "     width=\"24px\">\n",
              "    <g>\n",
              "        <path d=\"M19 3H5c-1.1 0-2 .9-2 2v14c0 1.1.9 2 2 2h14c1.1 0 2-.9 2-2V5c0-1.1-.9-2-2-2zM9 17H7v-7h2v7zm4 0h-2V7h2v10zm4 0h-2v-4h2v4z\"/>\n",
              "    </g>\n",
              "</svg>\n",
              "      </button>\n",
              "\n",
              "<style>\n",
              "  .colab-df-quickchart {\n",
              "      --bg-color: #E8F0FE;\n",
              "      --fill-color: #1967D2;\n",
              "      --hover-bg-color: #E2EBFA;\n",
              "      --hover-fill-color: #174EA6;\n",
              "      --disabled-fill-color: #AAA;\n",
              "      --disabled-bg-color: #DDD;\n",
              "  }\n",
              "\n",
              "  [theme=dark] .colab-df-quickchart {\n",
              "      --bg-color: #3B4455;\n",
              "      --fill-color: #D2E3FC;\n",
              "      --hover-bg-color: #434B5C;\n",
              "      --hover-fill-color: #FFFFFF;\n",
              "      --disabled-bg-color: #3B4455;\n",
              "      --disabled-fill-color: #666;\n",
              "  }\n",
              "\n",
              "  .colab-df-quickchart {\n",
              "    background-color: var(--bg-color);\n",
              "    border: none;\n",
              "    border-radius: 50%;\n",
              "    cursor: pointer;\n",
              "    display: none;\n",
              "    fill: var(--fill-color);\n",
              "    height: 32px;\n",
              "    padding: 0;\n",
              "    width: 32px;\n",
              "  }\n",
              "\n",
              "  .colab-df-quickchart:hover {\n",
              "    background-color: var(--hover-bg-color);\n",
              "    box-shadow: 0 1px 2px rgba(60, 64, 67, 0.3), 0 1px 3px 1px rgba(60, 64, 67, 0.15);\n",
              "    fill: var(--button-hover-fill-color);\n",
              "  }\n",
              "\n",
              "  .colab-df-quickchart-complete:disabled,\n",
              "  .colab-df-quickchart-complete:disabled:hover {\n",
              "    background-color: var(--disabled-bg-color);\n",
              "    fill: var(--disabled-fill-color);\n",
              "    box-shadow: none;\n",
              "  }\n",
              "\n",
              "  .colab-df-spinner {\n",
              "    border: 2px solid var(--fill-color);\n",
              "    border-color: transparent;\n",
              "    border-bottom-color: var(--fill-color);\n",
              "    animation:\n",
              "      spin 1s steps(1) infinite;\n",
              "  }\n",
              "\n",
              "  @keyframes spin {\n",
              "    0% {\n",
              "      border-color: transparent;\n",
              "      border-bottom-color: var(--fill-color);\n",
              "      border-left-color: var(--fill-color);\n",
              "    }\n",
              "    20% {\n",
              "      border-color: transparent;\n",
              "      border-left-color: var(--fill-color);\n",
              "      border-top-color: var(--fill-color);\n",
              "    }\n",
              "    30% {\n",
              "      border-color: transparent;\n",
              "      border-left-color: var(--fill-color);\n",
              "      border-top-color: var(--fill-color);\n",
              "      border-right-color: var(--fill-color);\n",
              "    }\n",
              "    40% {\n",
              "      border-color: transparent;\n",
              "      border-right-color: var(--fill-color);\n",
              "      border-top-color: var(--fill-color);\n",
              "    }\n",
              "    60% {\n",
              "      border-color: transparent;\n",
              "      border-right-color: var(--fill-color);\n",
              "    }\n",
              "    80% {\n",
              "      border-color: transparent;\n",
              "      border-right-color: var(--fill-color);\n",
              "      border-bottom-color: var(--fill-color);\n",
              "    }\n",
              "    90% {\n",
              "      border-color: transparent;\n",
              "      border-bottom-color: var(--fill-color);\n",
              "    }\n",
              "  }\n",
              "</style>\n",
              "\n",
              "      <script>\n",
              "        async function quickchart(key) {\n",
              "          const quickchartButtonEl =\n",
              "            document.querySelector('#' + key + ' button');\n",
              "          quickchartButtonEl.disabled = true;  // To prevent multiple clicks.\n",
              "          quickchartButtonEl.classList.add('colab-df-spinner');\n",
              "          try {\n",
              "            const charts = await google.colab.kernel.invokeFunction(\n",
              "                'suggestCharts', [key], {});\n",
              "          } catch (error) {\n",
              "            console.error('Error during call to suggestCharts:', error);\n",
              "          }\n",
              "          quickchartButtonEl.classList.remove('colab-df-spinner');\n",
              "          quickchartButtonEl.classList.add('colab-df-quickchart-complete');\n",
              "        }\n",
              "        (() => {\n",
              "          let quickchartButtonEl =\n",
              "            document.querySelector('#df-72a41d2a-2a16-4f90-8c84-13e4881a7387 button');\n",
              "          quickchartButtonEl.style.display =\n",
              "            google.colab.kernel.accessAllowed ? 'block' : 'none';\n",
              "        })();\n",
              "      </script>\n",
              "    </div>\n",
              "\n",
              "  <div id=\"id_ed984c4a-c06c-4d7b-84c1-384309adccdc\">\n",
              "    <style>\n",
              "      .colab-df-generate {\n",
              "        background-color: #E8F0FE;\n",
              "        border: none;\n",
              "        border-radius: 50%;\n",
              "        cursor: pointer;\n",
              "        display: none;\n",
              "        fill: #1967D2;\n",
              "        height: 32px;\n",
              "        padding: 0 0 0 0;\n",
              "        width: 32px;\n",
              "      }\n",
              "\n",
              "      .colab-df-generate:hover {\n",
              "        background-color: #E2EBFA;\n",
              "        box-shadow: 0px 1px 2px rgba(60, 64, 67, 0.3), 0px 1px 3px 1px rgba(60, 64, 67, 0.15);\n",
              "        fill: #174EA6;\n",
              "      }\n",
              "\n",
              "      [theme=dark] .colab-df-generate {\n",
              "        background-color: #3B4455;\n",
              "        fill: #D2E3FC;\n",
              "      }\n",
              "\n",
              "      [theme=dark] .colab-df-generate:hover {\n",
              "        background-color: #434B5C;\n",
              "        box-shadow: 0px 1px 3px 1px rgba(0, 0, 0, 0.15);\n",
              "        filter: drop-shadow(0px 1px 2px rgba(0, 0, 0, 0.3));\n",
              "        fill: #FFFFFF;\n",
              "      }\n",
              "    </style>\n",
              "    <button class=\"colab-df-generate\" onclick=\"generateWithVariable('vif_df')\"\n",
              "            title=\"Generate code using this dataframe.\"\n",
              "            style=\"display:none;\">\n",
              "\n",
              "  <svg xmlns=\"http://www.w3.org/2000/svg\" height=\"24px\"viewBox=\"0 0 24 24\"\n",
              "       width=\"24px\">\n",
              "    <path d=\"M7,19H8.4L18.45,9,17,7.55,7,17.6ZM5,21V16.75L18.45,3.32a2,2,0,0,1,2.83,0l1.4,1.43a1.91,1.91,0,0,1,.58,1.4,1.91,1.91,0,0,1-.58,1.4L9.25,21ZM18.45,9,17,7.55Zm-12,3A5.31,5.31,0,0,0,4.9,8.1,5.31,5.31,0,0,0,1,6.5,5.31,5.31,0,0,0,4.9,4.9,5.31,5.31,0,0,0,6.5,1,5.31,5.31,0,0,0,8.1,4.9,5.31,5.31,0,0,0,12,6.5,5.46,5.46,0,0,0,6.5,12Z\"/>\n",
              "  </svg>\n",
              "    </button>\n",
              "    <script>\n",
              "      (() => {\n",
              "      const buttonEl =\n",
              "        document.querySelector('#id_ed984c4a-c06c-4d7b-84c1-384309adccdc button.colab-df-generate');\n",
              "      buttonEl.style.display =\n",
              "        google.colab.kernel.accessAllowed ? 'block' : 'none';\n",
              "\n",
              "      buttonEl.onclick = () => {\n",
              "        google.colab.notebook.generateWithVariable('vif_df');\n",
              "      }\n",
              "      })();\n",
              "    </script>\n",
              "  </div>\n",
              "\n",
              "    </div>\n",
              "  </div>\n"
            ],
            "application/vnd.google.colaboratory.intrinsic+json": {
              "type": "dataframe",
              "variable_name": "vif_df",
              "summary": "{\n  \"name\": \"vif_df\",\n  \"rows\": 11,\n  \"fields\": [\n    {\n      \"column\": \"feature\",\n      \"properties\": {\n        \"dtype\": \"string\",\n        \"num_unique_values\": 11,\n        \"samples\": [\n          \"total_sulfur_dioxide\",\n          \"fixed_acidity\",\n          \"chlorides\"\n        ],\n        \"semantic_type\": \"\",\n        \"description\": \"\"\n      }\n    },\n    {\n      \"column\": \"VIF\",\n      \"properties\": {\n        \"dtype\": \"number\",\n        \"std\": 2.189371678886425,\n        \"min\": 1.5062312778563054,\n        \"max\": 7.815891678765124,\n        \"num_unique_values\": 11,\n        \"samples\": [\n          2.1083118877117246,\n          7.815891678765124,\n          1.590685211691583\n        ],\n        \"semantic_type\": \"\",\n        \"description\": \"\"\n      }\n    }\n  ]\n}"
            }
          },
          "metadata": {},
          "execution_count": 49
        }
      ],
      "source": [
        "# 11.5 Multicollinearity: VIF (on training predictors)\n",
        "X_vif = pd.DataFrame(X_train, columns=numeric_cols_mv).dropna() # Use numeric_cols_mv here\n",
        "X_vif_const = sm.add_constant(X_vif, has_constant='add')\n",
        "\n",
        "vif_vals = []\n",
        "# Iterate through the original column names to get the correct index\n",
        "for i, col in enumerate(numeric_cols_mv): # Iterate through numeric_cols_mv\n",
        "    # Find the index of the column in the array with the constant\n",
        "    col_index_with_constant = X_vif_const.columns.get_loc(col)\n",
        "    vif_vals.append({\"feature\": col, \"VIF\": variance_inflation_factor(X_vif_const.values, col_index_with_constant)})\n",
        "\n",
        "vif_df = pd.DataFrame(vif_vals).sort_values(\"VIF\", ascending=False)\n",
        "vif_df"
      ]
    },
    {
      "cell_type": "markdown",
      "id": "901800b4",
      "metadata": {
        "id": "901800b4"
      },
      "source": [
        "\n",
        "### 📝 TODO\n",
        "- If **Breusch–Pagan p < 0.05**, try transforming a skewed feature (e.g., `np.log1p(x)`) and re-fit.  \n",
        "- If **Shapiro p < 0.05**, consider outliers or feature transforms.  \n",
        "- If **VIF > 10** for a feature, try removing it or combining highly correlated features.  \n",
        "- If **Durbin–Watson** is far from 2 (time-indexed data), try adding lag features or using time-series models.\n"
      ]
    }
  ],
  "metadata": {
    "colab": {
      "provenance": []
    },
    "language_info": {
      "name": "python"
    },
    "kernelspec": {
      "name": "python3",
      "display_name": "Python 3"
    }
  },
  "nbformat": 4,
  "nbformat_minor": 5
}